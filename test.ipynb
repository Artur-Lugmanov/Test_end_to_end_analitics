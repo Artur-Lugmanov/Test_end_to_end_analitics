{
 "cells": [
  {
   "cell_type": "code",
   "execution_count": 1,
   "metadata": {},
   "outputs": [],
   "source": [
    "import warnings\n",
    "\n",
    "import numpy as np\n",
    "import pandas as pd\n",
    "\n",
    "warnings.filterwarnings('ignore')"
   ]
  },
  {
   "cell_type": "markdown",
   "metadata": {},
   "source": [
    "### Информация по рекламе"
   ]
  },
  {
   "cell_type": "code",
   "execution_count": 2,
   "metadata": {},
   "outputs": [
    {
     "data": {
      "text/html": [
       "<div>\n",
       "<style scoped>\n",
       "    .dataframe tbody tr th:only-of-type {\n",
       "        vertical-align: middle;\n",
       "    }\n",
       "\n",
       "    .dataframe tbody tr th {\n",
       "        vertical-align: top;\n",
       "    }\n",
       "\n",
       "    .dataframe thead th {\n",
       "        text-align: right;\n",
       "    }\n",
       "</style>\n",
       "<table border=\"1\" class=\"dataframe\">\n",
       "  <thead>\n",
       "    <tr style=\"text-align: right;\">\n",
       "      <th></th>\n",
       "      <th>created_at</th>\n",
       "      <th>d_ad_account_id</th>\n",
       "      <th>d_utm_source</th>\n",
       "      <th>d_utm_medium</th>\n",
       "      <th>d_utm_campaign</th>\n",
       "      <th>d_utm_content</th>\n",
       "      <th>d_utm_term</th>\n",
       "      <th>m_clicks</th>\n",
       "      <th>m_cost</th>\n",
       "    </tr>\n",
       "  </thead>\n",
       "  <tbody>\n",
       "    <tr>\n",
       "      <th>0</th>\n",
       "      <td>2022-08-08</td>\n",
       "      <td>xo-for-client-ya</td>\n",
       "      <td>yandex</td>\n",
       "      <td>cpc</td>\n",
       "      <td>48306435</td>\n",
       "      <td>8404700756</td>\n",
       "      <td>NaN</td>\n",
       "      <td>2.0</td>\n",
       "      <td>48.840</td>\n",
       "    </tr>\n",
       "    <tr>\n",
       "      <th>1</th>\n",
       "      <td>2022-08-08</td>\n",
       "      <td>xo-for-client-ya</td>\n",
       "      <td>yandex</td>\n",
       "      <td>cpc</td>\n",
       "      <td>48306435</td>\n",
       "      <td>8813476161</td>\n",
       "      <td>NaN</td>\n",
       "      <td>3.0</td>\n",
       "      <td>100.776</td>\n",
       "    </tr>\n",
       "    <tr>\n",
       "      <th>2</th>\n",
       "      <td>2022-08-08</td>\n",
       "      <td>xo-for-client-ya</td>\n",
       "      <td>yandex</td>\n",
       "      <td>cpc</td>\n",
       "      <td>48306435</td>\n",
       "      <td>8813476162</td>\n",
       "      <td>NaN</td>\n",
       "      <td>1.0</td>\n",
       "      <td>10.140</td>\n",
       "    </tr>\n",
       "    <tr>\n",
       "      <th>3</th>\n",
       "      <td>2022-08-08</td>\n",
       "      <td>xo-for-client-ya</td>\n",
       "      <td>yandex</td>\n",
       "      <td>cpc</td>\n",
       "      <td>48306435</td>\n",
       "      <td>8813476163</td>\n",
       "      <td>NaN</td>\n",
       "      <td>0.0</td>\n",
       "      <td>0.000</td>\n",
       "    </tr>\n",
       "    <tr>\n",
       "      <th>4</th>\n",
       "      <td>2022-08-08</td>\n",
       "      <td>xo-for-client-ya</td>\n",
       "      <td>yandex</td>\n",
       "      <td>cpc</td>\n",
       "      <td>48306435</td>\n",
       "      <td>8813476164</td>\n",
       "      <td>NaN</td>\n",
       "      <td>0.0</td>\n",
       "      <td>0.000</td>\n",
       "    </tr>\n",
       "    <tr>\n",
       "      <th>...</th>\n",
       "      <td>...</td>\n",
       "      <td>...</td>\n",
       "      <td>...</td>\n",
       "      <td>...</td>\n",
       "      <td>...</td>\n",
       "      <td>...</td>\n",
       "      <td>...</td>\n",
       "      <td>...</td>\n",
       "      <td>...</td>\n",
       "    </tr>\n",
       "    <tr>\n",
       "      <th>8597</th>\n",
       "      <td>2022-07-10</td>\n",
       "      <td>xo-for-client-ya</td>\n",
       "      <td>yandex</td>\n",
       "      <td>cpc</td>\n",
       "      <td>48306518</td>\n",
       "      <td>8813477628</td>\n",
       "      <td>NaN</td>\n",
       "      <td>0.0</td>\n",
       "      <td>0.000</td>\n",
       "    </tr>\n",
       "    <tr>\n",
       "      <th>8598</th>\n",
       "      <td>2022-07-10</td>\n",
       "      <td>xo-for-client-ya</td>\n",
       "      <td>yandex</td>\n",
       "      <td>cpc</td>\n",
       "      <td>48306518</td>\n",
       "      <td>8813477629</td>\n",
       "      <td>NaN</td>\n",
       "      <td>0.0</td>\n",
       "      <td>0.000</td>\n",
       "    </tr>\n",
       "    <tr>\n",
       "      <th>8599</th>\n",
       "      <td>2022-07-10</td>\n",
       "      <td>xo-for-client-ya</td>\n",
       "      <td>yandex</td>\n",
       "      <td>cpc</td>\n",
       "      <td>48306518</td>\n",
       "      <td>8404708323</td>\n",
       "      <td>NaN</td>\n",
       "      <td>0.0</td>\n",
       "      <td>0.000</td>\n",
       "    </tr>\n",
       "    <tr>\n",
       "      <th>8600</th>\n",
       "      <td>2022-07-10</td>\n",
       "      <td>xo-for-client-ya</td>\n",
       "      <td>yandex</td>\n",
       "      <td>cpc</td>\n",
       "      <td>48306518</td>\n",
       "      <td>8404708324</td>\n",
       "      <td>NaN</td>\n",
       "      <td>0.0</td>\n",
       "      <td>0.000</td>\n",
       "    </tr>\n",
       "    <tr>\n",
       "      <th>8601</th>\n",
       "      <td>2022-07-10</td>\n",
       "      <td>xo-for-client-ya</td>\n",
       "      <td>yandex</td>\n",
       "      <td>cpc</td>\n",
       "      <td>48306518</td>\n",
       "      <td>8813477631</td>\n",
       "      <td>NaN</td>\n",
       "      <td>0.0</td>\n",
       "      <td>0.000</td>\n",
       "    </tr>\n",
       "  </tbody>\n",
       "</table>\n",
       "<p>8602 rows × 9 columns</p>\n",
       "</div>"
      ],
      "text/plain": [
       "      created_at   d_ad_account_id d_utm_source d_utm_medium  d_utm_campaign  \\\n",
       "0     2022-08-08  xo-for-client-ya       yandex          cpc        48306435   \n",
       "1     2022-08-08  xo-for-client-ya       yandex          cpc        48306435   \n",
       "2     2022-08-08  xo-for-client-ya       yandex          cpc        48306435   \n",
       "3     2022-08-08  xo-for-client-ya       yandex          cpc        48306435   \n",
       "4     2022-08-08  xo-for-client-ya       yandex          cpc        48306435   \n",
       "...          ...               ...          ...          ...             ...   \n",
       "8597  2022-07-10  xo-for-client-ya       yandex          cpc        48306518   \n",
       "8598  2022-07-10  xo-for-client-ya       yandex          cpc        48306518   \n",
       "8599  2022-07-10  xo-for-client-ya       yandex          cpc        48306518   \n",
       "8600  2022-07-10  xo-for-client-ya       yandex          cpc        48306518   \n",
       "8601  2022-07-10  xo-for-client-ya       yandex          cpc        48306518   \n",
       "\n",
       "      d_utm_content  d_utm_term  m_clicks   m_cost  \n",
       "0        8404700756         NaN       2.0   48.840  \n",
       "1        8813476161         NaN       3.0  100.776  \n",
       "2        8813476162         NaN       1.0   10.140  \n",
       "3        8813476163         NaN       0.0    0.000  \n",
       "4        8813476164         NaN       0.0    0.000  \n",
       "...             ...         ...       ...      ...  \n",
       "8597     8813477628         NaN       0.0    0.000  \n",
       "8598     8813477629         NaN       0.0    0.000  \n",
       "8599     8404708323         NaN       0.0    0.000  \n",
       "8600     8404708324         NaN       0.0    0.000  \n",
       "8601     8813477631         NaN       0.0    0.000  \n",
       "\n",
       "[8602 rows x 9 columns]"
      ]
     },
     "execution_count": 2,
     "metadata": {},
     "output_type": "execute_result"
    }
   ],
   "source": [
    "ads = pd.read_csv('Data_sources/ads.csv')\n",
    "ads"
   ]
  },
  {
   "cell_type": "code",
   "execution_count": 3,
   "metadata": {},
   "outputs": [
    {
     "name": "stdout",
     "output_type": "stream",
     "text": [
      "<class 'pandas.core.frame.DataFrame'>\n",
      "RangeIndex: 8602 entries, 0 to 8601\n",
      "Data columns (total 9 columns):\n",
      " #   Column           Non-Null Count  Dtype  \n",
      "---  ------           --------------  -----  \n",
      " 0   created_at       8602 non-null   object \n",
      " 1   d_ad_account_id  8602 non-null   object \n",
      " 2   d_utm_source     8602 non-null   object \n",
      " 3   d_utm_medium     8602 non-null   object \n",
      " 4   d_utm_campaign   8602 non-null   int64  \n",
      " 5   d_utm_content    8602 non-null   int64  \n",
      " 6   d_utm_term       0 non-null      float64\n",
      " 7   m_clicks         8602 non-null   float64\n",
      " 8   m_cost           8602 non-null   float64\n",
      "dtypes: float64(3), int64(2), object(4)\n",
      "memory usage: 605.0+ KB\n"
     ]
    }
   ],
   "source": [
    "ads.info()"
   ]
  },
  {
   "cell_type": "code",
   "execution_count": 4,
   "metadata": {},
   "outputs": [
    {
     "data": {
      "text/html": [
       "<div>\n",
       "<style scoped>\n",
       "    .dataframe tbody tr th:only-of-type {\n",
       "        vertical-align: middle;\n",
       "    }\n",
       "\n",
       "    .dataframe tbody tr th {\n",
       "        vertical-align: top;\n",
       "    }\n",
       "\n",
       "    .dataframe thead th {\n",
       "        text-align: right;\n",
       "    }\n",
       "</style>\n",
       "<table border=\"1\" class=\"dataframe\">\n",
       "  <thead>\n",
       "    <tr style=\"text-align: right;\">\n",
       "      <th></th>\n",
       "      <th>d_utm_campaign</th>\n",
       "      <th>d_utm_content</th>\n",
       "      <th>d_utm_term</th>\n",
       "      <th>m_clicks</th>\n",
       "      <th>m_cost</th>\n",
       "    </tr>\n",
       "  </thead>\n",
       "  <tbody>\n",
       "    <tr>\n",
       "      <th>count</th>\n",
       "      <td>8.602000e+03</td>\n",
       "      <td>8.602000e+03</td>\n",
       "      <td>0.0</td>\n",
       "      <td>8602.000000</td>\n",
       "      <td>8602.000000</td>\n",
       "    </tr>\n",
       "    <tr>\n",
       "      <th>mean</th>\n",
       "      <td>4.869139e+07</td>\n",
       "      <td>8.677256e+09</td>\n",
       "      <td>NaN</td>\n",
       "      <td>2.185189</td>\n",
       "      <td>52.446061</td>\n",
       "    </tr>\n",
       "    <tr>\n",
       "      <th>std</th>\n",
       "      <td>2.870346e+06</td>\n",
       "      <td>4.452434e+08</td>\n",
       "      <td>NaN</td>\n",
       "      <td>3.945861</td>\n",
       "      <td>102.918082</td>\n",
       "    </tr>\n",
       "    <tr>\n",
       "      <th>min</th>\n",
       "      <td>4.830644e+07</td>\n",
       "      <td>8.404701e+09</td>\n",
       "      <td>NaN</td>\n",
       "      <td>0.000000</td>\n",
       "      <td>0.000000</td>\n",
       "    </tr>\n",
       "    <tr>\n",
       "      <th>25%</th>\n",
       "      <td>4.830645e+07</td>\n",
       "      <td>8.404705e+09</td>\n",
       "      <td>NaN</td>\n",
       "      <td>0.000000</td>\n",
       "      <td>0.000000</td>\n",
       "    </tr>\n",
       "    <tr>\n",
       "      <th>50%</th>\n",
       "      <td>4.830649e+07</td>\n",
       "      <td>8.813433e+09</td>\n",
       "      <td>NaN</td>\n",
       "      <td>0.000000</td>\n",
       "      <td>0.000000</td>\n",
       "    </tr>\n",
       "    <tr>\n",
       "      <th>75%</th>\n",
       "      <td>4.830652e+07</td>\n",
       "      <td>8.813476e+09</td>\n",
       "      <td>NaN</td>\n",
       "      <td>3.000000</td>\n",
       "      <td>60.147000</td>\n",
       "    </tr>\n",
       "    <tr>\n",
       "      <th>max</th>\n",
       "      <td>7.200079e+07</td>\n",
       "      <td>1.184486e+10</td>\n",
       "      <td>NaN</td>\n",
       "      <td>39.000000</td>\n",
       "      <td>1103.616000</td>\n",
       "    </tr>\n",
       "  </tbody>\n",
       "</table>\n",
       "</div>"
      ],
      "text/plain": [
       "       d_utm_campaign  d_utm_content  d_utm_term     m_clicks       m_cost\n",
       "count    8.602000e+03   8.602000e+03         0.0  8602.000000  8602.000000\n",
       "mean     4.869139e+07   8.677256e+09         NaN     2.185189    52.446061\n",
       "std      2.870346e+06   4.452434e+08         NaN     3.945861   102.918082\n",
       "min      4.830644e+07   8.404701e+09         NaN     0.000000     0.000000\n",
       "25%      4.830645e+07   8.404705e+09         NaN     0.000000     0.000000\n",
       "50%      4.830649e+07   8.813433e+09         NaN     0.000000     0.000000\n",
       "75%      4.830652e+07   8.813476e+09         NaN     3.000000    60.147000\n",
       "max      7.200079e+07   1.184486e+10         NaN    39.000000  1103.616000"
      ]
     },
     "execution_count": 4,
     "metadata": {},
     "output_type": "execute_result"
    }
   ],
   "source": [
    "ads.describe()"
   ]
  },
  {
   "cell_type": "code",
   "execution_count": 5,
   "metadata": {},
   "outputs": [],
   "source": [
    "ads['created_at'] = pd.to_datetime(ads['created_at'], format='%Y-%m-%d')"
   ]
  },
  {
   "cell_type": "code",
   "execution_count": 6,
   "metadata": {},
   "outputs": [
    {
     "data": {
      "text/plain": [
       "0"
      ]
     },
     "execution_count": 6,
     "metadata": {},
     "output_type": "execute_result"
    }
   ],
   "source": [
    "ads.duplicated().sum()"
   ]
  },
  {
   "cell_type": "code",
   "execution_count": 7,
   "metadata": {},
   "outputs": [
    {
     "name": "stdout",
     "output_type": "stream",
     "text": [
      "В колонке d_utm_term - 8602 пустых строк, что составляет 100% данных\n"
     ]
    }
   ],
   "source": [
    "for col in ads.columns:\n",
    "    if ads[col].isna().sum() > 0:\n",
    "        print(f'В колонке {col} - {ads[col].isna().sum()} пустых строк, \\\n",
    "что составляет {ads[col].isna().sum() / len(ads):.0%} данных')"
   ]
  },
  {
   "cell_type": "markdown",
   "metadata": {},
   "source": [
    "Столбец `d_utm_term` польностью состоит из пропусков"
   ]
  },
  {
   "cell_type": "code",
   "execution_count": 8,
   "metadata": {},
   "outputs": [],
   "source": [
    "ads.drop(columns='d_utm_term', inplace=True)"
   ]
  },
  {
   "cell_type": "code",
   "execution_count": 9,
   "metadata": {},
   "outputs": [
    {
     "name": "stdout",
     "output_type": "stream",
     "text": [
      "xo-for-client-ya    1.0\n",
      "Name: d_ad_account_id, dtype: float64\n",
      "\n",
      "yandex    1.0\n",
      "Name: d_utm_source, dtype: float64\n",
      "\n",
      "cpc    1.0\n",
      "Name: d_utm_medium, dtype: float64\n",
      "\n"
     ]
    }
   ],
   "source": [
    "for col in ads.columns:\n",
    "    if ads[col].dtypes == 'object':\n",
    "        print(ads[col].value_counts(normalize=True))\n",
    "        print()"
   ]
  },
  {
   "cell_type": "markdown",
   "metadata": {},
   "source": [
    "Представлена информация только по одному источнику и каналу"
   ]
  },
  {
   "cell_type": "markdown",
   "metadata": {},
   "source": [
    "Для возможности связать с таблицей leads изменим типы некоторых столбцов"
   ]
  },
  {
   "cell_type": "code",
   "execution_count": 10,
   "metadata": {},
   "outputs": [],
   "source": [
    "ads['d_utm_campaign'] = ads['d_utm_campaign'].astype('str')\n",
    "ads['d_utm_content'] = ads['d_utm_content'].astype('str')"
   ]
  },
  {
   "cell_type": "markdown",
   "metadata": {},
   "source": [
    "### Информация по лидам"
   ]
  },
  {
   "cell_type": "code",
   "execution_count": 11,
   "metadata": {},
   "outputs": [
    {
     "data": {
      "text/html": [
       "<div>\n",
       "<style scoped>\n",
       "    .dataframe tbody tr th:only-of-type {\n",
       "        vertical-align: middle;\n",
       "    }\n",
       "\n",
       "    .dataframe tbody tr th {\n",
       "        vertical-align: top;\n",
       "    }\n",
       "\n",
       "    .dataframe thead th {\n",
       "        text-align: right;\n",
       "    }\n",
       "</style>\n",
       "<table border=\"1\" class=\"dataframe\">\n",
       "  <thead>\n",
       "    <tr style=\"text-align: right;\">\n",
       "      <th></th>\n",
       "      <th>lead_created_at</th>\n",
       "      <th>lead_id</th>\n",
       "      <th>d_lead_utm_source</th>\n",
       "      <th>d_lead_utm_medium</th>\n",
       "      <th>d_lead_utm_campaign</th>\n",
       "      <th>d_lead_utm_content</th>\n",
       "      <th>d_lead_utm_term</th>\n",
       "      <th>client_id</th>\n",
       "    </tr>\n",
       "  </thead>\n",
       "  <tbody>\n",
       "    <tr>\n",
       "      <th>4265</th>\n",
       "      <td>2022-07-29</td>\n",
       "      <td>557b09d5-0f5d-11ed-9074-848f69e142cf</td>\n",
       "      <td>razdatka</td>\n",
       "      <td>cpa</td>\n",
       "      <td>31-07</td>\n",
       "      <td>NaN</td>\n",
       "      <td>NaN</td>\n",
       "      <td>d07cf03a-0fd3-11ed-9074-848f69e142cf</td>\n",
       "    </tr>\n",
       "    <tr>\n",
       "      <th>14976</th>\n",
       "      <td>2022-01-11</td>\n",
       "      <td>cd47ebc1-7305-11ec-9057-848f69e142cf</td>\n",
       "      <td>instagram</td>\n",
       "      <td>cpc</td>\n",
       "      <td>23849173065740725</td>\n",
       "      <td>23849173065730725</td>\n",
       "      <td>NaN</td>\n",
       "      <td>23d33610-bdf5-11eb-ac38-c412f533dba1</td>\n",
       "    </tr>\n",
       "    <tr>\n",
       "      <th>8454</th>\n",
       "      <td>2022-04-02</td>\n",
       "      <td>beb77958-b281-11ec-9061-848f69e142cf</td>\n",
       "      <td>eLama-google</td>\n",
       "      <td>cpc</td>\n",
       "      <td>Поиск II Брендовые запросы</td>\n",
       "      <td>cid|8655725448|gid|87321288232|aid|40696847899...</td>\n",
       "      <td>+физкультура +фитнес +самара</td>\n",
       "      <td>63843bef-3fec-11ec-904f-848f69e142cf</td>\n",
       "    </tr>\n",
       "  </tbody>\n",
       "</table>\n",
       "</div>"
      ],
      "text/plain": [
       "      lead_created_at                               lead_id d_lead_utm_source  \\\n",
       "4265       2022-07-29  557b09d5-0f5d-11ed-9074-848f69e142cf          razdatka   \n",
       "14976      2022-01-11  cd47ebc1-7305-11ec-9057-848f69e142cf         instagram   \n",
       "8454       2022-04-02  beb77958-b281-11ec-9061-848f69e142cf      eLama-google   \n",
       "\n",
       "      d_lead_utm_medium         d_lead_utm_campaign  \\\n",
       "4265                cpa                       31-07   \n",
       "14976               cpc           23849173065740725   \n",
       "8454                cpc  Поиск II Брендовые запросы   \n",
       "\n",
       "                                      d_lead_utm_content  \\\n",
       "4265                                                 NaN   \n",
       "14976                                  23849173065730725   \n",
       "8454   cid|8655725448|gid|87321288232|aid|40696847899...   \n",
       "\n",
       "                    d_lead_utm_term                             client_id  \n",
       "4265                            NaN  d07cf03a-0fd3-11ed-9074-848f69e142cf  \n",
       "14976                           NaN  23d33610-bdf5-11eb-ac38-c412f533dba1  \n",
       "8454   +физкультура +фитнес +самара  63843bef-3fec-11ec-904f-848f69e142cf  "
      ]
     },
     "execution_count": 11,
     "metadata": {},
     "output_type": "execute_result"
    }
   ],
   "source": [
    "leads=pd.read_csv('Data_sources/leads.csv')\n",
    "leads.sample(3)"
   ]
  },
  {
   "cell_type": "code",
   "execution_count": 12,
   "metadata": {},
   "outputs": [
    {
     "name": "stdout",
     "output_type": "stream",
     "text": [
      "<class 'pandas.core.frame.DataFrame'>\n",
      "RangeIndex: 23540 entries, 0 to 23539\n",
      "Data columns (total 8 columns):\n",
      " #   Column               Non-Null Count  Dtype \n",
      "---  ------               --------------  ----- \n",
      " 0   lead_created_at      23540 non-null  object\n",
      " 1   lead_id              23540 non-null  object\n",
      " 2   d_lead_utm_source    12331 non-null  object\n",
      " 3   d_lead_utm_medium    10100 non-null  object\n",
      " 4   d_lead_utm_campaign  9569 non-null   object\n",
      " 5   d_lead_utm_content   3338 non-null   object\n",
      " 6   d_lead_utm_term      328 non-null    object\n",
      " 7   client_id            18601 non-null  object\n",
      "dtypes: object(8)\n",
      "memory usage: 1.4+ MB\n"
     ]
    }
   ],
   "source": [
    "leads.info()"
   ]
  },
  {
   "cell_type": "code",
   "execution_count": 13,
   "metadata": {},
   "outputs": [],
   "source": [
    "leads['lead_created_at'] = pd.to_datetime(leads['lead_created_at'], format='%Y-%m-%d')\n"
   ]
  },
  {
   "cell_type": "code",
   "execution_count": 14,
   "metadata": {},
   "outputs": [
    {
     "name": "stdout",
     "output_type": "stream",
     "text": [
      "VOICEROBOT                                  0.178412\n",
      "vk                                          0.166329\n",
      "instagram                                   0.152380\n",
      "yandex                                      0.145892\n",
      "sms                                         0.087179\n",
      "vkontakte                                   0.054254\n",
      "ycard                                       0.027248\n",
      "eLama-google                                0.025545\n",
      "megacity                                    0.023275\n",
      "ff110922                                    0.020031\n",
      "df310722                                    0.016219\n",
      "zvonobot                                    0.015246\n",
      "kviz                                        0.013624\n",
      "vkmegacity                                  0.012975\n",
      "telegram                                    0.009002\n",
      "outdoor                                     0.007704\n",
      "dz1809                                      0.007136\n",
      "clients_day                                 0.005271\n",
      "promo7                                      0.003812\n",
      "promo11                                     0.003487\n",
      "promo1                                      0.003244\n",
      "promo5                                      0.003082\n",
      "pt1109                                      0.002514\n",
      "lift                                        0.002109\n",
      "promo3                                      0.001946\n",
      "promo8                                      0.001865\n",
      "viber                                       0.001460\n",
      "google                                      0.001054\n",
      "promo2                                      0.001054\n",
      "vkontaktereklama                            0.000811\n",
      "banner                                      0.000811\n",
      "whatsapp                                    0.000649\n",
      "intagram                                    0.000568\n",
      "vkontakteso                                 0.000487\n",
      "razdatka                                    0.000487\n",
      "site                                        0.000405\n",
      "promo6                                      0.000324\n",
      "inst                                        0.000324\n",
      "vkontakteknopka                             0.000324\n",
      "zapisnatrenirovk                            0.000243\n",
      "ycard#!/tproduct/323718988-1498486301712    0.000243\n",
      "ycard#!/tproduct/323718988-1498486363994    0.000162\n",
      "telegramsamara                              0.000162\n",
      "vkmegasity                                  0.000162\n",
      "megasity                                    0.000162\n",
      "ycard#!/tproduct/323718988-1646116631071    0.000081\n",
      "navigaciya                                  0.000081\n",
      "%utm_source%                                0.000081\n",
      "vkontaktevertical                           0.000081\n",
      "Name: d_lead_utm_source, dtype: float64\n",
      "\n",
      "cpc             0.534455\n",
      "social          0.253267\n",
      "email           0.122574\n",
      "cpa             0.041287\n",
      "organic         0.036238\n",
      "zvonobot        0.006436\n",
      "banner          0.003267\n",
      "vk              0.001485\n",
      "socia           0.000297\n",
      "mobile          0.000297\n",
      "razdatka        0.000099\n",
      "sociak          0.000099\n",
      "banne           0.000099\n",
      "%utm_medium%    0.000099\n",
      "Name: d_lead_utm_medium, dtype: float64\n",
      "\n"
     ]
    }
   ],
   "source": [
    "for col in ['d_lead_utm_source', 'd_lead_utm_medium']:\n",
    "    if leads[col].dtypes == 'object':\n",
    "        print(leads[col].value_counts(normalize=True))\n",
    "        print()"
   ]
  },
  {
   "cell_type": "markdown",
   "metadata": {},
   "source": [
    "Интересующему нас источнику соответствует `yandex` соответствует 14,5% записей в таблице заявок."
   ]
  },
  {
   "cell_type": "code",
   "execution_count": 15,
   "metadata": {},
   "outputs": [
    {
     "name": "stdout",
     "output_type": "stream",
     "text": [
      "В колонке d_lead_utm_source - 11209 пустых строк, что составляет 48% данных\n",
      "В колонке d_lead_utm_medium - 13440 пустых строк, что составляет 57% данных\n",
      "В колонке d_lead_utm_campaign - 13971 пустых строк, что составляет 59% данных\n",
      "В колонке d_lead_utm_content - 20202 пустых строк, что составляет 86% данных\n",
      "В колонке d_lead_utm_term - 23212 пустых строк, что составляет 99% данных\n",
      "В колонке client_id - 4939 пустых строк, что составляет 21% данных\n"
     ]
    }
   ],
   "source": [
    "for col in leads.columns:\n",
    "    if leads[col].isna().sum() > 0:\n",
    "        print(f'В колонке {col} - {leads[col].isna().sum()} пустых строк, \\\n",
    "что составляет {leads[col].isna().sum() / len(leads):.0%} данных')"
   ]
  },
  {
   "cell_type": "markdown",
   "metadata": {},
   "source": [
    "Столбец `d_lead_utm_term ` содержит 99% пропусков, остальные столбцы, необходимые для связей с таблицами ads и purchases также содержат пропуски. Данные пропуски могут быть удалены, а столбец `d_lead_utm_term` удален полностью, т.к. ранее он был удален и из таблицы `ads`"
   ]
  },
  {
   "cell_type": "code",
   "execution_count": 16,
   "metadata": {},
   "outputs": [],
   "source": [
    "leads.drop(columns='d_lead_utm_term', inplace=True)"
   ]
  },
  {
   "cell_type": "code",
   "execution_count": 17,
   "metadata": {},
   "outputs": [],
   "source": [
    "leads.dropna(subset=['d_lead_utm_source', 'd_lead_utm_medium', 'd_lead_utm_campaign', 'd_lead_utm_content', \\\n",
    "                    'client_id'], how='any', inplace=True)"
   ]
  },
  {
   "cell_type": "code",
   "execution_count": 18,
   "metadata": {},
   "outputs": [
    {
     "data": {
      "text/plain": [
       "0"
      ]
     },
     "execution_count": 18,
     "metadata": {},
     "output_type": "execute_result"
    }
   ],
   "source": [
    "leads.duplicated().sum()"
   ]
  },
  {
   "cell_type": "markdown",
   "metadata": {},
   "source": [
    "Связь с таблицей ads определяется набором столбцов с датой и utm-метками. При наличии дублей данная связь не будет однозначной и, соответственно, увеличится кол-во кликов и их суммарная стоимость."
   ]
  },
  {
   "cell_type": "code",
   "execution_count": 19,
   "metadata": {},
   "outputs": [
    {
     "data": {
      "text/plain": [
       "338"
      ]
     },
     "execution_count": 19,
     "metadata": {},
     "output_type": "execute_result"
    }
   ],
   "source": [
    "leads[(leads['d_lead_utm_source']=='yandex')&(leads['d_lead_utm_medium']=='cpc')][['lead_created_at', \\\n",
    "'d_lead_utm_source', 'd_lead_utm_medium', 'd_lead_utm_campaign', 'd_lead_utm_content']].duplicated().sum()"
   ]
  },
  {
   "cell_type": "markdown",
   "metadata": {},
   "source": [
    "Данная связь будет характеризоваться как один(ads) ко многим(leads) и, соответственно, потребуется дополнительные преобразования для исключения дублирования кол-ва кликов и суммы расходов на рекламу."
   ]
  },
  {
   "cell_type": "code",
   "execution_count": 20,
   "metadata": {},
   "outputs": [
    {
     "data": {
      "text/plain": [
       "18797.0"
      ]
     },
     "execution_count": 20,
     "metadata": {},
     "output_type": "execute_result"
    }
   ],
   "source": [
    "ads['m_clicks'].sum()"
   ]
  },
  {
   "cell_type": "code",
   "execution_count": 21,
   "metadata": {},
   "outputs": [],
   "source": [
    "total = ads.merge(leads, how='left', \n",
    "                        left_on=['created_at', 'd_utm_source', 'd_utm_medium', 'd_utm_campaign', 'd_utm_content'],\n",
    "                        right_on=['lead_created_at', 'd_lead_utm_source', 'd_lead_utm_medium', \n",
    "                                        'd_lead_utm_campaign', 'd_lead_utm_content', ])"
   ]
  },
  {
   "cell_type": "code",
   "execution_count": 22,
   "metadata": {},
   "outputs": [
    {
     "data": {
      "text/plain": [
       "22471.0"
      ]
     },
     "execution_count": 22,
     "metadata": {},
     "output_type": "execute_result"
    }
   ],
   "source": [
    "total['m_clicks'].sum()"
   ]
  },
  {
   "cell_type": "markdown",
   "metadata": {},
   "source": [
    "Кол-во кликов выросло за счет наличия дублирующихся строк в таблице с лидами"
   ]
  },
  {
   "cell_type": "markdown",
   "metadata": {},
   "source": [
    "Удалим лишние столбцы"
   ]
  },
  {
   "cell_type": "code",
   "execution_count": 23,
   "metadata": {},
   "outputs": [],
   "source": [
    "total.drop(columns=['d_ad_account_id','lead_id', 'd_lead_utm_source', 'd_lead_utm_medium', \\\n",
    "                    'd_lead_utm_campaign', 'd_lead_utm_content'], inplace=True)"
   ]
  },
  {
   "cell_type": "markdown",
   "metadata": {},
   "source": [
    "Посчитаем количество записей для каждого уникального набора ключей, сформированных по набору полей `created_at`, `d_utm_source`, `d_utm_medium`, `d_utm_campaign`, `d_utm_content`."
   ]
  },
  {
   "cell_type": "code",
   "execution_count": 24,
   "metadata": {},
   "outputs": [],
   "source": [
    "total['count'] = total.groupby(by=['created_at','d_utm_source','d_utm_medium','d_utm_campaign', \\\n",
    "                                    'd_utm_content'])['m_cost'].transform(lambda x: x.count())"
   ]
  },
  {
   "cell_type": "code",
   "execution_count": 25,
   "metadata": {},
   "outputs": [
    {
     "data": {
      "text/plain": [
       "1    8396\n",
       "2     290\n",
       "3     144\n",
       "4      44\n",
       "5      10\n",
       "Name: count, dtype: int64"
      ]
     },
     "execution_count": 25,
     "metadata": {},
     "output_type": "execute_result"
    }
   ],
   "source": [
    "total['count'].value_counts()"
   ]
  },
  {
   "cell_type": "markdown",
   "metadata": {},
   "source": [
    "В большинстве случаев ключи уникальны, двойные дубли встречаются 290 раз, максимальное количество повторов составляет пять строк."
   ]
  },
  {
   "cell_type": "markdown",
   "metadata": {},
   "source": [
    "Восстановим правильное количество кликов и расходов на рекламу, разделив на количество дублирующихся записей по каждому ключу. Т.е. при наличии нескольких лидов с совпадающим набором ключей из даты и utm-меток, будем считать, что каждому лиду относится пропорциональное количество кликов."
   ]
  },
  {
   "cell_type": "code",
   "execution_count": 26,
   "metadata": {},
   "outputs": [],
   "source": [
    "total['m_clicks_per_lead'] = total['m_clicks'] / total['count']\n",
    "total['m_cost_per_lead'] = total['m_cost'] / total['count']"
   ]
  },
  {
   "cell_type": "code",
   "execution_count": 27,
   "metadata": {},
   "outputs": [
    {
     "data": {
      "text/plain": [
       "18797.0"
      ]
     },
     "execution_count": 27,
     "metadata": {},
     "output_type": "execute_result"
    }
   ],
   "source": [
    "total['m_clicks_per_lead'].sum()"
   ]
  },
  {
   "cell_type": "markdown",
   "metadata": {},
   "source": [
    "### Информация по покупкам"
   ]
  },
  {
   "cell_type": "code",
   "execution_count": 28,
   "metadata": {},
   "outputs": [
    {
     "data": {
      "text/html": [
       "<div>\n",
       "<style scoped>\n",
       "    .dataframe tbody tr th:only-of-type {\n",
       "        vertical-align: middle;\n",
       "    }\n",
       "\n",
       "    .dataframe tbody tr th {\n",
       "        vertical-align: top;\n",
       "    }\n",
       "\n",
       "    .dataframe thead th {\n",
       "        text-align: right;\n",
       "    }\n",
       "</style>\n",
       "<table border=\"1\" class=\"dataframe\">\n",
       "  <thead>\n",
       "    <tr style=\"text-align: right;\">\n",
       "      <th></th>\n",
       "      <th>purchase_created_at</th>\n",
       "      <th>purchase_id</th>\n",
       "      <th>client_id</th>\n",
       "      <th>m_purchase_amount</th>\n",
       "    </tr>\n",
       "  </thead>\n",
       "  <tbody>\n",
       "    <tr>\n",
       "      <th>0</th>\n",
       "      <td>2022-02-21</td>\n",
       "      <td>d3198d39-6d16-40c9-bff7-aa28bd6e2991</td>\n",
       "      <td>7011bdcd-6fd8-11e7-80fc-c412f533dba1</td>\n",
       "      <td>9950.0</td>\n",
       "    </tr>\n",
       "    <tr>\n",
       "      <th>1</th>\n",
       "      <td>2022-02-21</td>\n",
       "      <td>48a0ad24-77aa-4064-a971-dd0d6f1f6c50</td>\n",
       "      <td>a2771bb0-6fd6-11e7-80fc-c412f533dba1</td>\n",
       "      <td>8700.0</td>\n",
       "    </tr>\n",
       "    <tr>\n",
       "      <th>2</th>\n",
       "      <td>2022-02-21</td>\n",
       "      <td>267ff20f-a56c-480a-b2f7-1f7b1a746f9f</td>\n",
       "      <td>2687f503-6fd7-11e7-80fc-c412f533dba1</td>\n",
       "      <td>0.0</td>\n",
       "    </tr>\n",
       "    <tr>\n",
       "      <th>3</th>\n",
       "      <td>2022-02-21</td>\n",
       "      <td>19fba5f0-785d-45bd-903a-34ba529c6404</td>\n",
       "      <td>01122a97-45bc-11eb-ac23-c412f533dba1</td>\n",
       "      <td>8700.0</td>\n",
       "    </tr>\n",
       "    <tr>\n",
       "      <th>4</th>\n",
       "      <td>2022-02-21</td>\n",
       "      <td>00ac921d-32e3-4200-9435-a46d5fef4a29</td>\n",
       "      <td>a55b8c4e-d5a3-11e9-abbe-c412f533dba1</td>\n",
       "      <td>500.0</td>\n",
       "    </tr>\n",
       "  </tbody>\n",
       "</table>\n",
       "</div>"
      ],
      "text/plain": [
       "  purchase_created_at                           purchase_id  \\\n",
       "0          2022-02-21  d3198d39-6d16-40c9-bff7-aa28bd6e2991   \n",
       "1          2022-02-21  48a0ad24-77aa-4064-a971-dd0d6f1f6c50   \n",
       "2          2022-02-21  267ff20f-a56c-480a-b2f7-1f7b1a746f9f   \n",
       "3          2022-02-21  19fba5f0-785d-45bd-903a-34ba529c6404   \n",
       "4          2022-02-21  00ac921d-32e3-4200-9435-a46d5fef4a29   \n",
       "\n",
       "                              client_id  m_purchase_amount  \n",
       "0  7011bdcd-6fd8-11e7-80fc-c412f533dba1             9950.0  \n",
       "1  a2771bb0-6fd6-11e7-80fc-c412f533dba1             8700.0  \n",
       "2  2687f503-6fd7-11e7-80fc-c412f533dba1                0.0  \n",
       "3  01122a97-45bc-11eb-ac23-c412f533dba1             8700.0  \n",
       "4  a55b8c4e-d5a3-11e9-abbe-c412f533dba1              500.0  "
      ]
     },
     "execution_count": 28,
     "metadata": {},
     "output_type": "execute_result"
    }
   ],
   "source": [
    "purchases=pd.read_csv('Data_sources/purchases.csv')\n",
    "purchases.head()"
   ]
  },
  {
   "cell_type": "code",
   "execution_count": 29,
   "metadata": {},
   "outputs": [
    {
     "name": "stdout",
     "output_type": "stream",
     "text": [
      "<class 'pandas.core.frame.DataFrame'>\n",
      "RangeIndex: 66180 entries, 0 to 66179\n",
      "Data columns (total 4 columns):\n",
      " #   Column               Non-Null Count  Dtype  \n",
      "---  ------               --------------  -----  \n",
      " 0   purchase_created_at  66180 non-null  object \n",
      " 1   purchase_id          66180 non-null  object \n",
      " 2   client_id            66179 non-null  object \n",
      " 3   m_purchase_amount    66180 non-null  float64\n",
      "dtypes: float64(1), object(3)\n",
      "memory usage: 2.0+ MB\n"
     ]
    }
   ],
   "source": [
    "purchases.info()"
   ]
  },
  {
   "cell_type": "code",
   "execution_count": 30,
   "metadata": {},
   "outputs": [],
   "source": [
    "purchases.dropna(subset=['client_id'], how='any', inplace=True)"
   ]
  },
  {
   "cell_type": "code",
   "execution_count": 31,
   "metadata": {},
   "outputs": [],
   "source": [
    "purchases['purchase_created_at'] = pd.to_datetime(purchases['purchase_created_at'], format='%Y-%m-%d')\n"
   ]
  },
  {
   "cell_type": "code",
   "execution_count": 32,
   "metadata": {},
   "outputs": [],
   "source": [
    "for col in purchases.columns:\n",
    "    if purchases[col].isna().sum() > 0:\n",
    "        print(f'В колонке {col} - {purchases[col].isna().sum()} пустых строк, \\\n",
    "что составляет {purchases[col].isna().sum() / len(purchases):.0%} данных')"
   ]
  },
  {
   "cell_type": "code",
   "execution_count": 33,
   "metadata": {},
   "outputs": [
    {
     "data": {
      "text/plain": [
       "0"
      ]
     },
     "execution_count": 33,
     "metadata": {},
     "output_type": "execute_result"
    }
   ],
   "source": [
    "purchases.duplicated().sum()"
   ]
  },
  {
   "cell_type": "code",
   "execution_count": 34,
   "metadata": {},
   "outputs": [
    {
     "data": {
      "text/plain": [
       "8663"
      ]
     },
     "execution_count": 34,
     "metadata": {},
     "output_type": "execute_result"
    }
   ],
   "source": [
    "len(purchases[purchases['m_purchase_amount'] == 0])"
   ]
  },
  {
   "cell_type": "markdown",
   "metadata": {},
   "source": [
    "Большое количество записей в таблице с покупками содержит нулевую сумму, что, вероятно, должно быть интерпретировано как отсутствие покупки и не учитываться в суммарном их количестве."
   ]
  },
  {
   "cell_type": "code",
   "execution_count": 35,
   "metadata": {},
   "outputs": [],
   "source": [
    "purchases = purchases.drop(purchases[purchases['m_purchase_amount'] == 0].index)"
   ]
  },
  {
   "cell_type": "code",
   "execution_count": 36,
   "metadata": {},
   "outputs": [
    {
     "name": "stdout",
     "output_type": "stream",
     "text": [
      "<class 'pandas.core.frame.DataFrame'>\n",
      "Int64Index: 57516 entries, 0 to 66179\n",
      "Data columns (total 4 columns):\n",
      " #   Column               Non-Null Count  Dtype         \n",
      "---  ------               --------------  -----         \n",
      " 0   purchase_created_at  57516 non-null  datetime64[ns]\n",
      " 1   purchase_id          57516 non-null  object        \n",
      " 2   client_id            57516 non-null  object        \n",
      " 3   m_purchase_amount    57516 non-null  float64       \n",
      "dtypes: datetime64[ns](1), float64(1), object(2)\n",
      "memory usage: 2.2+ MB\n"
     ]
    }
   ],
   "source": [
    "purchases.info()"
   ]
  },
  {
   "cell_type": "markdown",
   "metadata": {},
   "source": [
    "### Объединение таблиц"
   ]
  },
  {
   "cell_type": "markdown",
   "metadata": {},
   "source": [
    "Для каждого покупателя ('client_id') найдем все даты по лидам и, соответствующие этим лидам покупки, если они имеются."
   ]
  },
  {
   "cell_type": "code",
   "execution_count": 37,
   "metadata": {},
   "outputs": [
    {
     "data": {
      "text/html": [
       "<div>\n",
       "<style scoped>\n",
       "    .dataframe tbody tr th:only-of-type {\n",
       "        vertical-align: middle;\n",
       "    }\n",
       "\n",
       "    .dataframe tbody tr th {\n",
       "        vertical-align: top;\n",
       "    }\n",
       "\n",
       "    .dataframe thead th {\n",
       "        text-align: right;\n",
       "    }\n",
       "</style>\n",
       "<table border=\"1\" class=\"dataframe\">\n",
       "  <thead>\n",
       "    <tr style=\"text-align: right;\">\n",
       "      <th></th>\n",
       "      <th>client_id</th>\n",
       "      <th>lead_created_at</th>\n",
       "    </tr>\n",
       "  </thead>\n",
       "  <tbody>\n",
       "    <tr>\n",
       "      <th>0</th>\n",
       "      <td>001f4c39-7a96-11ec-9058-848f69e142c9</td>\n",
       "      <td>{2022-01-21 00:00:00}</td>\n",
       "    </tr>\n",
       "    <tr>\n",
       "      <th>1</th>\n",
       "      <td>005795d3-744c-11ec-9057-848f69e142cf</td>\n",
       "      <td>{2022-01-13 00:00:00}</td>\n",
       "    </tr>\n",
       "    <tr>\n",
       "      <th>2</th>\n",
       "      <td>0070edee-2501-11ed-9078-848f69e142cf</td>\n",
       "      <td>{2022-08-25 00:00:00}</td>\n",
       "    </tr>\n",
       "    <tr>\n",
       "      <th>3</th>\n",
       "      <td>00817883-6fd6-11e7-80fc-c412f533dba1</td>\n",
       "      <td>{2022-01-31 00:00:00}</td>\n",
       "    </tr>\n",
       "    <tr>\n",
       "      <th>4</th>\n",
       "      <td>00b00fbc-80aa-11eb-ac27-c412f533dba1</td>\n",
       "      <td>{2022-09-04 00:00:00}</td>\n",
       "    </tr>\n",
       "    <tr>\n",
       "      <th>...</th>\n",
       "      <td>...</td>\n",
       "      <td>...</td>\n",
       "    </tr>\n",
       "    <tr>\n",
       "      <th>2473</th>\n",
       "      <td>ff6fe041-340d-11ed-907c-848f69e142cf</td>\n",
       "      <td>{2022-10-05 00:00:00}</td>\n",
       "    </tr>\n",
       "    <tr>\n",
       "      <th>2474</th>\n",
       "      <td>ff7d081f-d070-11ec-9066-848f69e142cd</td>\n",
       "      <td>{2022-05-10 00:00:00}</td>\n",
       "    </tr>\n",
       "    <tr>\n",
       "      <th>2475</th>\n",
       "      <td>ff9e6518-ec9d-11ec-906f-848f69e142cf</td>\n",
       "      <td>{2022-06-15 00:00:00}</td>\n",
       "    </tr>\n",
       "    <tr>\n",
       "      <th>2476</th>\n",
       "      <td>ffcd029e-7dad-11ec-9059-848f69e142c9</td>\n",
       "      <td>{2022-01-25 00:00:00}</td>\n",
       "    </tr>\n",
       "    <tr>\n",
       "      <th>2477</th>\n",
       "      <td>fff3d090-2a8b-11ed-907b-848f69e142cf</td>\n",
       "      <td>{2022-09-01 00:00:00}</td>\n",
       "    </tr>\n",
       "  </tbody>\n",
       "</table>\n",
       "<p>2478 rows × 2 columns</p>\n",
       "</div>"
      ],
      "text/plain": [
       "                                 client_id        lead_created_at\n",
       "0     001f4c39-7a96-11ec-9058-848f69e142c9  {2022-01-21 00:00:00}\n",
       "1     005795d3-744c-11ec-9057-848f69e142cf  {2022-01-13 00:00:00}\n",
       "2     0070edee-2501-11ed-9078-848f69e142cf  {2022-08-25 00:00:00}\n",
       "3     00817883-6fd6-11e7-80fc-c412f533dba1  {2022-01-31 00:00:00}\n",
       "4     00b00fbc-80aa-11eb-ac27-c412f533dba1  {2022-09-04 00:00:00}\n",
       "...                                    ...                    ...\n",
       "2473  ff6fe041-340d-11ed-907c-848f69e142cf  {2022-10-05 00:00:00}\n",
       "2474  ff7d081f-d070-11ec-9066-848f69e142cd  {2022-05-10 00:00:00}\n",
       "2475  ff9e6518-ec9d-11ec-906f-848f69e142cf  {2022-06-15 00:00:00}\n",
       "2476  ffcd029e-7dad-11ec-9059-848f69e142c9  {2022-01-25 00:00:00}\n",
       "2477  fff3d090-2a8b-11ed-907b-848f69e142cf  {2022-09-01 00:00:00}\n",
       "\n",
       "[2478 rows x 2 columns]"
      ]
     },
     "execution_count": 37,
     "metadata": {},
     "output_type": "execute_result"
    }
   ],
   "source": [
    "leads_gr = leads.groupby('client_id', as_index=False).agg({'lead_created_at':set})\n",
    "leads_gr"
   ]
  },
  {
   "cell_type": "code",
   "execution_count": 38,
   "metadata": {},
   "outputs": [
    {
     "data": {
      "text/html": [
       "<div>\n",
       "<style scoped>\n",
       "    .dataframe tbody tr th:only-of-type {\n",
       "        vertical-align: middle;\n",
       "    }\n",
       "\n",
       "    .dataframe tbody tr th {\n",
       "        vertical-align: top;\n",
       "    }\n",
       "\n",
       "    .dataframe thead th {\n",
       "        text-align: right;\n",
       "    }\n",
       "</style>\n",
       "<table border=\"1\" class=\"dataframe\">\n",
       "  <thead>\n",
       "    <tr style=\"text-align: right;\">\n",
       "      <th></th>\n",
       "      <th>client_id</th>\n",
       "      <th>purchase_created_at</th>\n",
       "    </tr>\n",
       "  </thead>\n",
       "  <tbody>\n",
       "    <tr>\n",
       "      <th>0</th>\n",
       "      <td>000ed948-63bd-11eb-ac26-c412f533dba1</td>\n",
       "      <td>{2022-02-04 00:00:00, 2022-07-01 00:00:00}</td>\n",
       "    </tr>\n",
       "    <tr>\n",
       "      <th>1</th>\n",
       "      <td>00104ea2-d85b-11ec-9067-848f69e142c9</td>\n",
       "      <td>{2022-05-23 00:00:00}</td>\n",
       "    </tr>\n",
       "    <tr>\n",
       "      <th>2</th>\n",
       "      <td>00180c2e-9155-11e7-8114-c412f533dba1</td>\n",
       "      <td>{2022-08-11 00:00:00, 2022-05-30 00:00:00, 202...</td>\n",
       "    </tr>\n",
       "    <tr>\n",
       "      <th>3</th>\n",
       "      <td>001f4c39-7a96-11ec-9058-848f69e142c9</td>\n",
       "      <td>{2022-02-20 00:00:00, 2022-03-16 00:00:00, 202...</td>\n",
       "    </tr>\n",
       "    <tr>\n",
       "      <th>4</th>\n",
       "      <td>002152fc-ffdb-11ea-ac18-c412f533dba1</td>\n",
       "      <td>{2022-09-22 00:00:00, 2022-03-14 00:00:00, 202...</td>\n",
       "    </tr>\n",
       "    <tr>\n",
       "      <th>...</th>\n",
       "      <td>...</td>\n",
       "      <td>...</td>\n",
       "    </tr>\n",
       "    <tr>\n",
       "      <th>15281</th>\n",
       "      <td>ffdb8f20-b7fa-11ec-9062-848f69e142cf</td>\n",
       "      <td>{2022-04-28 00:00:00, 2022-04-14 00:00:00}</td>\n",
       "    </tr>\n",
       "    <tr>\n",
       "      <th>15282</th>\n",
       "      <td>ffe3d29d-2c48-11e8-8131-c412f533dba1</td>\n",
       "      <td>{2022-05-16 00:00:00}</td>\n",
       "    </tr>\n",
       "    <tr>\n",
       "      <th>15283</th>\n",
       "      <td>ffe42035-52c8-11ec-9052-848f69e142cf</td>\n",
       "      <td>{2022-09-29 00:00:00}</td>\n",
       "    </tr>\n",
       "    <tr>\n",
       "      <th>15284</th>\n",
       "      <td>ffe76cba-f12d-11eb-903e-848f69e142cd</td>\n",
       "      <td>{2022-04-25 00:00:00}</td>\n",
       "    </tr>\n",
       "    <tr>\n",
       "      <th>15285</th>\n",
       "      <td>ffef1a5c-d6bf-11ec-9067-848f69e142c9</td>\n",
       "      <td>{2022-06-02 00:00:00}</td>\n",
       "    </tr>\n",
       "  </tbody>\n",
       "</table>\n",
       "<p>15286 rows × 2 columns</p>\n",
       "</div>"
      ],
      "text/plain": [
       "                                  client_id  \\\n",
       "0      000ed948-63bd-11eb-ac26-c412f533dba1   \n",
       "1      00104ea2-d85b-11ec-9067-848f69e142c9   \n",
       "2      00180c2e-9155-11e7-8114-c412f533dba1   \n",
       "3      001f4c39-7a96-11ec-9058-848f69e142c9   \n",
       "4      002152fc-ffdb-11ea-ac18-c412f533dba1   \n",
       "...                                     ...   \n",
       "15281  ffdb8f20-b7fa-11ec-9062-848f69e142cf   \n",
       "15282  ffe3d29d-2c48-11e8-8131-c412f533dba1   \n",
       "15283  ffe42035-52c8-11ec-9052-848f69e142cf   \n",
       "15284  ffe76cba-f12d-11eb-903e-848f69e142cd   \n",
       "15285  ffef1a5c-d6bf-11ec-9067-848f69e142c9   \n",
       "\n",
       "                                     purchase_created_at  \n",
       "0             {2022-02-04 00:00:00, 2022-07-01 00:00:00}  \n",
       "1                                  {2022-05-23 00:00:00}  \n",
       "2      {2022-08-11 00:00:00, 2022-05-30 00:00:00, 202...  \n",
       "3      {2022-02-20 00:00:00, 2022-03-16 00:00:00, 202...  \n",
       "4      {2022-09-22 00:00:00, 2022-03-14 00:00:00, 202...  \n",
       "...                                                  ...  \n",
       "15281         {2022-04-28 00:00:00, 2022-04-14 00:00:00}  \n",
       "15282                              {2022-05-16 00:00:00}  \n",
       "15283                              {2022-09-29 00:00:00}  \n",
       "15284                              {2022-04-25 00:00:00}  \n",
       "15285                              {2022-06-02 00:00:00}  \n",
       "\n",
       "[15286 rows x 2 columns]"
      ]
     },
     "execution_count": 38,
     "metadata": {},
     "output_type": "execute_result"
    }
   ],
   "source": [
    "pur_gr = purchases.groupby('client_id', as_index=False).agg({'purchase_created_at':set})\n",
    "pur_gr"
   ]
  },
  {
   "cell_type": "code",
   "execution_count": 39,
   "metadata": {},
   "outputs": [
    {
     "data": {
      "text/html": [
       "<div>\n",
       "<style scoped>\n",
       "    .dataframe tbody tr th:only-of-type {\n",
       "        vertical-align: middle;\n",
       "    }\n",
       "\n",
       "    .dataframe tbody tr th {\n",
       "        vertical-align: top;\n",
       "    }\n",
       "\n",
       "    .dataframe thead th {\n",
       "        text-align: right;\n",
       "    }\n",
       "</style>\n",
       "<table border=\"1\" class=\"dataframe\">\n",
       "  <thead>\n",
       "    <tr style=\"text-align: right;\">\n",
       "      <th></th>\n",
       "      <th>client_id</th>\n",
       "      <th>lead_created_at</th>\n",
       "      <th>purchase_created_at</th>\n",
       "    </tr>\n",
       "  </thead>\n",
       "  <tbody>\n",
       "    <tr>\n",
       "      <th>0</th>\n",
       "      <td>001f4c39-7a96-11ec-9058-848f69e142c9</td>\n",
       "      <td>{2022-01-21 00:00:00}</td>\n",
       "      <td>{2022-02-20 00:00:00, 2022-03-16 00:00:00, 202...</td>\n",
       "    </tr>\n",
       "    <tr>\n",
       "      <th>1</th>\n",
       "      <td>005795d3-744c-11ec-9057-848f69e142cf</td>\n",
       "      <td>{2022-01-13 00:00:00}</td>\n",
       "      <td>NaN</td>\n",
       "    </tr>\n",
       "    <tr>\n",
       "      <th>2</th>\n",
       "      <td>0070edee-2501-11ed-9078-848f69e142cf</td>\n",
       "      <td>{2022-08-25 00:00:00}</td>\n",
       "      <td>NaN</td>\n",
       "    </tr>\n",
       "    <tr>\n",
       "      <th>3</th>\n",
       "      <td>00817883-6fd6-11e7-80fc-c412f533dba1</td>\n",
       "      <td>{2022-01-31 00:00:00}</td>\n",
       "      <td>{2022-01-31 00:00:00}</td>\n",
       "    </tr>\n",
       "    <tr>\n",
       "      <th>4</th>\n",
       "      <td>00b00fbc-80aa-11eb-ac27-c412f533dba1</td>\n",
       "      <td>{2022-09-04 00:00:00}</td>\n",
       "      <td>NaN</td>\n",
       "    </tr>\n",
       "    <tr>\n",
       "      <th>...</th>\n",
       "      <td>...</td>\n",
       "      <td>...</td>\n",
       "      <td>...</td>\n",
       "    </tr>\n",
       "    <tr>\n",
       "      <th>2473</th>\n",
       "      <td>ff6fe041-340d-11ed-907c-848f69e142cf</td>\n",
       "      <td>{2022-10-05 00:00:00}</td>\n",
       "      <td>NaN</td>\n",
       "    </tr>\n",
       "    <tr>\n",
       "      <th>2474</th>\n",
       "      <td>ff7d081f-d070-11ec-9066-848f69e142cd</td>\n",
       "      <td>{2022-05-10 00:00:00}</td>\n",
       "      <td>NaN</td>\n",
       "    </tr>\n",
       "    <tr>\n",
       "      <th>2475</th>\n",
       "      <td>ff9e6518-ec9d-11ec-906f-848f69e142cf</td>\n",
       "      <td>{2022-06-15 00:00:00}</td>\n",
       "      <td>NaN</td>\n",
       "    </tr>\n",
       "    <tr>\n",
       "      <th>2476</th>\n",
       "      <td>ffcd029e-7dad-11ec-9059-848f69e142c9</td>\n",
       "      <td>{2022-01-25 00:00:00}</td>\n",
       "      <td>NaN</td>\n",
       "    </tr>\n",
       "    <tr>\n",
       "      <th>2477</th>\n",
       "      <td>fff3d090-2a8b-11ed-907b-848f69e142cf</td>\n",
       "      <td>{2022-09-01 00:00:00}</td>\n",
       "      <td>NaN</td>\n",
       "    </tr>\n",
       "  </tbody>\n",
       "</table>\n",
       "<p>2478 rows × 3 columns</p>\n",
       "</div>"
      ],
      "text/plain": [
       "                                 client_id        lead_created_at  \\\n",
       "0     001f4c39-7a96-11ec-9058-848f69e142c9  {2022-01-21 00:00:00}   \n",
       "1     005795d3-744c-11ec-9057-848f69e142cf  {2022-01-13 00:00:00}   \n",
       "2     0070edee-2501-11ed-9078-848f69e142cf  {2022-08-25 00:00:00}   \n",
       "3     00817883-6fd6-11e7-80fc-c412f533dba1  {2022-01-31 00:00:00}   \n",
       "4     00b00fbc-80aa-11eb-ac27-c412f533dba1  {2022-09-04 00:00:00}   \n",
       "...                                    ...                    ...   \n",
       "2473  ff6fe041-340d-11ed-907c-848f69e142cf  {2022-10-05 00:00:00}   \n",
       "2474  ff7d081f-d070-11ec-9066-848f69e142cd  {2022-05-10 00:00:00}   \n",
       "2475  ff9e6518-ec9d-11ec-906f-848f69e142cf  {2022-06-15 00:00:00}   \n",
       "2476  ffcd029e-7dad-11ec-9059-848f69e142c9  {2022-01-25 00:00:00}   \n",
       "2477  fff3d090-2a8b-11ed-907b-848f69e142cf  {2022-09-01 00:00:00}   \n",
       "\n",
       "                                    purchase_created_at  \n",
       "0     {2022-02-20 00:00:00, 2022-03-16 00:00:00, 202...  \n",
       "1                                                   NaN  \n",
       "2                                                   NaN  \n",
       "3                                 {2022-01-31 00:00:00}  \n",
       "4                                                   NaN  \n",
       "...                                                 ...  \n",
       "2473                                                NaN  \n",
       "2474                                                NaN  \n",
       "2475                                                NaN  \n",
       "2476                                                NaN  \n",
       "2477                                                NaN  \n",
       "\n",
       "[2478 rows x 3 columns]"
      ]
     },
     "execution_count": 39,
     "metadata": {},
     "output_type": "execute_result"
    }
   ],
   "source": [
    "ld_pr = leads_gr.merge(pur_gr, how='left', on='client_id')\n",
    "ld_pr"
   ]
  },
  {
   "cell_type": "code",
   "execution_count": 40,
   "metadata": {},
   "outputs": [],
   "source": [
    "ld_pr['lead_created_at'] = ld_pr['lead_created_at'].apply(lambda x: sorted(list(x)))\n",
    "ld_pr['purchase_created_at'] = ld_pr['purchase_created_at'].apply(lambda x: sorted(list(x)) if pd.notna(x) else x)"
   ]
  },
  {
   "cell_type": "code",
   "execution_count": 41,
   "metadata": {},
   "outputs": [
    {
     "data": {
      "text/html": [
       "<div>\n",
       "<style scoped>\n",
       "    .dataframe tbody tr th:only-of-type {\n",
       "        vertical-align: middle;\n",
       "    }\n",
       "\n",
       "    .dataframe tbody tr th {\n",
       "        vertical-align: top;\n",
       "    }\n",
       "\n",
       "    .dataframe thead th {\n",
       "        text-align: right;\n",
       "    }\n",
       "</style>\n",
       "<table border=\"1\" class=\"dataframe\">\n",
       "  <thead>\n",
       "    <tr style=\"text-align: right;\">\n",
       "      <th></th>\n",
       "      <th>client_id</th>\n",
       "      <th>lead_created_at</th>\n",
       "      <th>purchase_created_at</th>\n",
       "    </tr>\n",
       "  </thead>\n",
       "  <tbody>\n",
       "    <tr>\n",
       "      <th>120</th>\n",
       "      <td>0c6eba7c-1b64-11ec-9045-848f69e142c9</td>\n",
       "      <td>[2022-02-15 00:00:00]</td>\n",
       "      <td>[2022-01-16 00:00:00]</td>\n",
       "    </tr>\n",
       "    <tr>\n",
       "      <th>121</th>\n",
       "      <td>0c71bc66-2c32-11ed-907b-848f69e142cf</td>\n",
       "      <td>[2022-09-04 00:00:00]</td>\n",
       "      <td>NaN</td>\n",
       "    </tr>\n",
       "    <tr>\n",
       "      <th>122</th>\n",
       "      <td>0c8a4706-78f8-11ec-9058-848f69e142c9</td>\n",
       "      <td>[2022-01-19 00:00:00]</td>\n",
       "      <td>NaN</td>\n",
       "    </tr>\n",
       "    <tr>\n",
       "      <th>123</th>\n",
       "      <td>0c98c6a8-615c-11ec-9054-848f69e142cf</td>\n",
       "      <td>[2022-01-19 00:00:00]</td>\n",
       "      <td>NaN</td>\n",
       "    </tr>\n",
       "    <tr>\n",
       "      <th>124</th>\n",
       "      <td>0d1a0d65-cb39-11ea-ac0f-c412f533dba1</td>\n",
       "      <td>[2022-03-22 00:00:00]</td>\n",
       "      <td>[2022-03-22 00:00:00]</td>\n",
       "    </tr>\n",
       "    <tr>\n",
       "      <th>125</th>\n",
       "      <td>0d1a9ac8-b25b-11ec-9061-848f69e142cf</td>\n",
       "      <td>[2022-04-02 00:00:00]</td>\n",
       "      <td>NaN</td>\n",
       "    </tr>\n",
       "    <tr>\n",
       "      <th>126</th>\n",
       "      <td>0d2130a5-2453-11ed-9078-848f69e142cf</td>\n",
       "      <td>[2022-08-24 00:00:00, 2022-09-15 00:00:00]</td>\n",
       "      <td>[2022-09-19 00:00:00, 2022-09-21 00:00:00]</td>\n",
       "    </tr>\n",
       "    <tr>\n",
       "      <th>127</th>\n",
       "      <td>0d29c4a9-d5ab-11e9-abbe-c412f533dba1</td>\n",
       "      <td>[2022-05-06 00:00:00]</td>\n",
       "      <td>NaN</td>\n",
       "    </tr>\n",
       "    <tr>\n",
       "      <th>128</th>\n",
       "      <td>0d382de0-011b-11ed-9072-848f69e142cf</td>\n",
       "      <td>[2022-07-11 00:00:00]</td>\n",
       "      <td>NaN</td>\n",
       "    </tr>\n",
       "    <tr>\n",
       "      <th>129</th>\n",
       "      <td>0d410c70-7f3e-11ec-9059-848f69e142c9</td>\n",
       "      <td>[2022-01-27 00:00:00]</td>\n",
       "      <td>NaN</td>\n",
       "    </tr>\n",
       "  </tbody>\n",
       "</table>\n",
       "</div>"
      ],
      "text/plain": [
       "                                client_id  \\\n",
       "120  0c6eba7c-1b64-11ec-9045-848f69e142c9   \n",
       "121  0c71bc66-2c32-11ed-907b-848f69e142cf   \n",
       "122  0c8a4706-78f8-11ec-9058-848f69e142c9   \n",
       "123  0c98c6a8-615c-11ec-9054-848f69e142cf   \n",
       "124  0d1a0d65-cb39-11ea-ac0f-c412f533dba1   \n",
       "125  0d1a9ac8-b25b-11ec-9061-848f69e142cf   \n",
       "126  0d2130a5-2453-11ed-9078-848f69e142cf   \n",
       "127  0d29c4a9-d5ab-11e9-abbe-c412f533dba1   \n",
       "128  0d382de0-011b-11ed-9072-848f69e142cf   \n",
       "129  0d410c70-7f3e-11ec-9059-848f69e142c9   \n",
       "\n",
       "                                lead_created_at  \\\n",
       "120                       [2022-02-15 00:00:00]   \n",
       "121                       [2022-09-04 00:00:00]   \n",
       "122                       [2022-01-19 00:00:00]   \n",
       "123                       [2022-01-19 00:00:00]   \n",
       "124                       [2022-03-22 00:00:00]   \n",
       "125                       [2022-04-02 00:00:00]   \n",
       "126  [2022-08-24 00:00:00, 2022-09-15 00:00:00]   \n",
       "127                       [2022-05-06 00:00:00]   \n",
       "128                       [2022-07-11 00:00:00]   \n",
       "129                       [2022-01-27 00:00:00]   \n",
       "\n",
       "                            purchase_created_at  \n",
       "120                       [2022-01-16 00:00:00]  \n",
       "121                                         NaN  \n",
       "122                                         NaN  \n",
       "123                                         NaN  \n",
       "124                       [2022-03-22 00:00:00]  \n",
       "125                                         NaN  \n",
       "126  [2022-09-19 00:00:00, 2022-09-21 00:00:00]  \n",
       "127                                         NaN  \n",
       "128                                         NaN  \n",
       "129                                         NaN  "
      ]
     },
     "execution_count": 41,
     "metadata": {},
     "output_type": "execute_result"
    }
   ],
   "source": [
    "ld_pr[120:130]"
   ]
  },
  {
   "cell_type": "markdown",
   "metadata": {},
   "source": [
    "Отделим на время, для удобства последующих преобразований, клиентов без покупок."
   ]
  },
  {
   "cell_type": "code",
   "execution_count": 42,
   "metadata": {},
   "outputs": [
    {
     "data": {
      "text/html": [
       "<div>\n",
       "<style scoped>\n",
       "    .dataframe tbody tr th:only-of-type {\n",
       "        vertical-align: middle;\n",
       "    }\n",
       "\n",
       "    .dataframe tbody tr th {\n",
       "        vertical-align: top;\n",
       "    }\n",
       "\n",
       "    .dataframe thead th {\n",
       "        text-align: right;\n",
       "    }\n",
       "</style>\n",
       "<table border=\"1\" class=\"dataframe\">\n",
       "  <thead>\n",
       "    <tr style=\"text-align: right;\">\n",
       "      <th></th>\n",
       "      <th>client_id</th>\n",
       "      <th>lead_created_at</th>\n",
       "      <th>purchase_created_at</th>\n",
       "    </tr>\n",
       "  </thead>\n",
       "  <tbody>\n",
       "    <tr>\n",
       "      <th>0</th>\n",
       "      <td>001f4c39-7a96-11ec-9058-848f69e142c9</td>\n",
       "      <td>[2022-01-21 00:00:00]</td>\n",
       "      <td>[2022-02-20 00:00:00, 2022-03-16 00:00:00, 202...</td>\n",
       "    </tr>\n",
       "    <tr>\n",
       "      <th>3</th>\n",
       "      <td>00817883-6fd6-11e7-80fc-c412f533dba1</td>\n",
       "      <td>[2022-01-31 00:00:00]</td>\n",
       "      <td>[2022-01-31 00:00:00]</td>\n",
       "    </tr>\n",
       "    <tr>\n",
       "      <th>7</th>\n",
       "      <td>01031b3a-b59a-11e8-ab73-c412f533dba1</td>\n",
       "      <td>[2022-01-23 00:00:00]</td>\n",
       "      <td>[2022-01-24 00:00:00, 2022-02-08 00:00:00, 202...</td>\n",
       "    </tr>\n",
       "    <tr>\n",
       "      <th>8</th>\n",
       "      <td>0123c572-adb4-11e7-8116-c412f533dba1</td>\n",
       "      <td>[2022-01-21 00:00:00]</td>\n",
       "      <td>[2022-04-26 00:00:00]</td>\n",
       "    </tr>\n",
       "    <tr>\n",
       "      <th>10</th>\n",
       "      <td>01a36ca5-1173-11ed-9074-848f69e142cf</td>\n",
       "      <td>[2022-08-01 00:00:00]</td>\n",
       "      <td>[2022-08-01 00:00:00]</td>\n",
       "    </tr>\n",
       "    <tr>\n",
       "      <th>...</th>\n",
       "      <td>...</td>\n",
       "      <td>...</td>\n",
       "      <td>...</td>\n",
       "    </tr>\n",
       "    <tr>\n",
       "      <th>2464</th>\n",
       "      <td>fe70d078-98b7-11e9-abac-c412f533dba1</td>\n",
       "      <td>[2022-08-26 00:00:00]</td>\n",
       "      <td>[2022-02-19 00:00:00]</td>\n",
       "    </tr>\n",
       "    <tr>\n",
       "      <th>2465</th>\n",
       "      <td>fe77adfa-f9e4-11eb-903f-848f69e142cf</td>\n",
       "      <td>[2022-06-26 00:00:00]</td>\n",
       "      <td>[2022-06-28 00:00:00]</td>\n",
       "    </tr>\n",
       "    <tr>\n",
       "      <th>2467</th>\n",
       "      <td>fea10060-b314-11ec-9062-848f69e142cf</td>\n",
       "      <td>[2022-04-18 00:00:00]</td>\n",
       "      <td>[2022-04-29 00:00:00]</td>\n",
       "    </tr>\n",
       "    <tr>\n",
       "      <th>2468</th>\n",
       "      <td>fea18e6f-7eae-11ec-9059-848f69e142c9</td>\n",
       "      <td>[2022-01-04 00:00:00]</td>\n",
       "      <td>[2022-01-26 00:00:00, 2022-02-27 00:00:00, 202...</td>\n",
       "    </tr>\n",
       "    <tr>\n",
       "      <th>2469</th>\n",
       "      <td>fed73113-6ec6-11ec-9056-848f69e142cf</td>\n",
       "      <td>[2022-01-06 00:00:00]</td>\n",
       "      <td>[2022-04-28 00:00:00, 2022-08-17 00:00:00]</td>\n",
       "    </tr>\n",
       "  </tbody>\n",
       "</table>\n",
       "<p>896 rows × 3 columns</p>\n",
       "</div>"
      ],
      "text/plain": [
       "                                 client_id        lead_created_at  \\\n",
       "0     001f4c39-7a96-11ec-9058-848f69e142c9  [2022-01-21 00:00:00]   \n",
       "3     00817883-6fd6-11e7-80fc-c412f533dba1  [2022-01-31 00:00:00]   \n",
       "7     01031b3a-b59a-11e8-ab73-c412f533dba1  [2022-01-23 00:00:00]   \n",
       "8     0123c572-adb4-11e7-8116-c412f533dba1  [2022-01-21 00:00:00]   \n",
       "10    01a36ca5-1173-11ed-9074-848f69e142cf  [2022-08-01 00:00:00]   \n",
       "...                                    ...                    ...   \n",
       "2464  fe70d078-98b7-11e9-abac-c412f533dba1  [2022-08-26 00:00:00]   \n",
       "2465  fe77adfa-f9e4-11eb-903f-848f69e142cf  [2022-06-26 00:00:00]   \n",
       "2467  fea10060-b314-11ec-9062-848f69e142cf  [2022-04-18 00:00:00]   \n",
       "2468  fea18e6f-7eae-11ec-9059-848f69e142c9  [2022-01-04 00:00:00]   \n",
       "2469  fed73113-6ec6-11ec-9056-848f69e142cf  [2022-01-06 00:00:00]   \n",
       "\n",
       "                                    purchase_created_at  \n",
       "0     [2022-02-20 00:00:00, 2022-03-16 00:00:00, 202...  \n",
       "3                                 [2022-01-31 00:00:00]  \n",
       "7     [2022-01-24 00:00:00, 2022-02-08 00:00:00, 202...  \n",
       "8                                 [2022-04-26 00:00:00]  \n",
       "10                                [2022-08-01 00:00:00]  \n",
       "...                                                 ...  \n",
       "2464                              [2022-02-19 00:00:00]  \n",
       "2465                              [2022-06-28 00:00:00]  \n",
       "2467                              [2022-04-29 00:00:00]  \n",
       "2468  [2022-01-26 00:00:00, 2022-02-27 00:00:00, 202...  \n",
       "2469         [2022-04-28 00:00:00, 2022-08-17 00:00:00]  \n",
       "\n",
       "[896 rows x 3 columns]"
      ]
     },
     "execution_count": 42,
     "metadata": {},
     "output_type": "execute_result"
    }
   ],
   "source": [
    "ld_pr_notna = ld_pr[pd.notna(ld_pr['purchase_created_at'])]\n",
    "ld_pr_isna = ld_pr[pd.isna(ld_pr['purchase_created_at'])]\n",
    "ld_pr_notna"
   ]
  },
  {
   "cell_type": "markdown",
   "metadata": {},
   "source": [
    "Определим функцию, для однозначной связи лидов с покупками, согласно выданным условиям. Если нет соответствующей покупки, для приведения всех данных к одному типубудем выставлять отдаленную дату"
   ]
  },
  {
   "cell_type": "code",
   "execution_count": 43,
   "metadata": {},
   "outputs": [],
   "source": [
    "def corr_purchase_date(lead_dt, purchase_dt):\n",
    "    '''\n",
    "    Ф-я принимает на вход список дат по заявкам и список дат по покупкам,\n",
    "    возвращает словарь, в котором каждой дате заявки (ключу) ставится в соответствие дата покупки (значение)\n",
    "    Если нет соответствующей покупки, то в качестве значения возвращает '2099-01-01'.\n",
    "    '''\n",
    "    ld_pr_dct = {}\n",
    "    for ld_ind, ld_dt in enumerate(lead_dt):\n",
    "        for pr_ind, pr_dt in enumerate(purchase_dt):\n",
    "            if  ld_dt not in ld_pr_dct:\n",
    "                if pd.Timedelta('0 days') <= pr_dt - ld_dt  <= pd.Timedelta('15 days'):\n",
    "                    if ld_dt == lead_dt[-1]:\n",
    "                        ld_pr_dct[ld_dt] = pr_dt\n",
    "                    elif pr_dt - lead_dt[ld_ind+1]  < pd.Timedelta('0 days'):\n",
    "                        ld_pr_dct[ld_dt] = pr_dt\n",
    "                    else:\n",
    "                        ld_pr_dct[ld_dt] = pd.to_datetime('2099-01-01')\n",
    "        if  ld_dt not in ld_pr_dct:\n",
    "            ld_pr_dct[ld_dt] = pd.to_datetime('2099-01-01')\n",
    "\n",
    "    return ld_pr_dct"
   ]
  },
  {
   "cell_type": "markdown",
   "metadata": {},
   "source": [
    "Проверим функцию на корректность работы, подав на вход несколько возможных случаев соотношения даты оформления заявок и даты покупок"
   ]
  },
  {
   "cell_type": "code",
   "execution_count": 44,
   "metadata": {},
   "outputs": [
    {
     "data": {
      "text/plain": [
       "{Timestamp('2022-01-21 00:00:00'): Timestamp('2022-01-25 00:00:00')}"
      ]
     },
     "execution_count": 44,
     "metadata": {},
     "output_type": "execute_result"
    }
   ],
   "source": [
    "lead_dt = [pd.to_datetime('2022-01-21')]\n",
    "purchase_dt = [pd.to_datetime('2022-01-25'), pd.to_datetime('2022-02-27')]\n",
    "corr_purchase_date(lead_dt, purchase_dt)"
   ]
  },
  {
   "cell_type": "code",
   "execution_count": 45,
   "metadata": {},
   "outputs": [
    {
     "data": {
      "text/plain": [
       "{Timestamp('2022-01-21 00:00:00'): Timestamp('2099-01-01 00:00:00')}"
      ]
     },
     "execution_count": 45,
     "metadata": {},
     "output_type": "execute_result"
    }
   ],
   "source": [
    "lead_dt = [pd.to_datetime('2022-01-21')]\n",
    "purchase_dt = [pd.to_datetime('2022-02-15'), pd.to_datetime('2022-03-27')]\n",
    "corr_purchase_date(lead_dt, purchase_dt)"
   ]
  },
  {
   "cell_type": "code",
   "execution_count": 46,
   "metadata": {},
   "outputs": [
    {
     "data": {
      "text/plain": [
       "{Timestamp('2022-01-21 00:00:00'): Timestamp('2022-02-01 00:00:00'),\n",
       " Timestamp('2022-05-21 00:00:00'): Timestamp('2099-01-01 00:00:00'),\n",
       " Timestamp('2022-06-22 00:00:00'): Timestamp('2022-06-25 00:00:00')}"
      ]
     },
     "execution_count": 46,
     "metadata": {},
     "output_type": "execute_result"
    }
   ],
   "source": [
    "lead_dt = [pd.to_datetime('2022-01-21'), pd.to_datetime('2022-05-21'), pd.to_datetime('2022-06-22')]\n",
    "purchase_dt = [pd.to_datetime('2022-01-20'), pd.to_datetime('2022-02-01'), pd.to_datetime('2022-06-25')]\n",
    "corr_purchase_date(lead_dt, purchase_dt)"
   ]
  },
  {
   "cell_type": "code",
   "execution_count": 47,
   "metadata": {},
   "outputs": [
    {
     "data": {
      "text/plain": [
       "{Timestamp('2022-01-21 00:00:00'): Timestamp('2022-01-25 00:00:00'),\n",
       " Timestamp('2022-03-15 00:00:00'): Timestamp('2022-03-23 00:00:00'),\n",
       " Timestamp('2022-04-15 00:00:00'): Timestamp('2099-01-01 00:00:00')}"
      ]
     },
     "execution_count": 47,
     "metadata": {},
     "output_type": "execute_result"
    }
   ],
   "source": [
    "lead_dt = [pd.to_datetime('2022-01-21'), pd.to_datetime('2022-03-15'), pd.to_datetime('2022-04-15')]\n",
    "purchase_dt = [pd.to_datetime('2022-01-25'), pd.to_datetime('2022-02-23'), pd.to_datetime('2022-03-23')]\n",
    "corr_purchase_date(lead_dt, purchase_dt)"
   ]
  },
  {
   "cell_type": "code",
   "execution_count": 48,
   "metadata": {},
   "outputs": [],
   "source": [
    "ld_pr_notna['lead_purchase'] = ld_pr_notna.apply(lambda x: corr_purchase_date(x.lead_created_at, \\\n",
    "                                                    x.purchase_created_at), axis=1)"
   ]
  },
  {
   "cell_type": "code",
   "execution_count": 49,
   "metadata": {},
   "outputs": [
    {
     "data": {
      "text/html": [
       "<div>\n",
       "<style scoped>\n",
       "    .dataframe tbody tr th:only-of-type {\n",
       "        vertical-align: middle;\n",
       "    }\n",
       "\n",
       "    .dataframe tbody tr th {\n",
       "        vertical-align: top;\n",
       "    }\n",
       "\n",
       "    .dataframe thead th {\n",
       "        text-align: right;\n",
       "    }\n",
       "</style>\n",
       "<table border=\"1\" class=\"dataframe\">\n",
       "  <thead>\n",
       "    <tr style=\"text-align: right;\">\n",
       "      <th></th>\n",
       "      <th>client_id</th>\n",
       "      <th>lead_created_at</th>\n",
       "      <th>purchase_created_at</th>\n",
       "      <th>lead_purchase</th>\n",
       "    </tr>\n",
       "  </thead>\n",
       "  <tbody>\n",
       "    <tr>\n",
       "      <th>0</th>\n",
       "      <td>001f4c39-7a96-11ec-9058-848f69e142c9</td>\n",
       "      <td>[2022-01-21 00:00:00]</td>\n",
       "      <td>[2022-02-20 00:00:00, 2022-03-16 00:00:00, 202...</td>\n",
       "      <td>{2022-01-21 00:00:00: 2099-01-01 00:00:00}</td>\n",
       "    </tr>\n",
       "    <tr>\n",
       "      <th>3</th>\n",
       "      <td>00817883-6fd6-11e7-80fc-c412f533dba1</td>\n",
       "      <td>[2022-01-31 00:00:00]</td>\n",
       "      <td>[2022-01-31 00:00:00]</td>\n",
       "      <td>{2022-01-31 00:00:00: 2022-01-31 00:00:00}</td>\n",
       "    </tr>\n",
       "    <tr>\n",
       "      <th>7</th>\n",
       "      <td>01031b3a-b59a-11e8-ab73-c412f533dba1</td>\n",
       "      <td>[2022-01-23 00:00:00]</td>\n",
       "      <td>[2022-01-24 00:00:00, 2022-02-08 00:00:00, 202...</td>\n",
       "      <td>{2022-01-23 00:00:00: 2022-01-24 00:00:00}</td>\n",
       "    </tr>\n",
       "    <tr>\n",
       "      <th>8</th>\n",
       "      <td>0123c572-adb4-11e7-8116-c412f533dba1</td>\n",
       "      <td>[2022-01-21 00:00:00]</td>\n",
       "      <td>[2022-04-26 00:00:00]</td>\n",
       "      <td>{2022-01-21 00:00:00: 2099-01-01 00:00:00}</td>\n",
       "    </tr>\n",
       "    <tr>\n",
       "      <th>10</th>\n",
       "      <td>01a36ca5-1173-11ed-9074-848f69e142cf</td>\n",
       "      <td>[2022-08-01 00:00:00]</td>\n",
       "      <td>[2022-08-01 00:00:00]</td>\n",
       "      <td>{2022-08-01 00:00:00: 2022-08-01 00:00:00}</td>\n",
       "    </tr>\n",
       "    <tr>\n",
       "      <th>...</th>\n",
       "      <td>...</td>\n",
       "      <td>...</td>\n",
       "      <td>...</td>\n",
       "      <td>...</td>\n",
       "    </tr>\n",
       "    <tr>\n",
       "      <th>2464</th>\n",
       "      <td>fe70d078-98b7-11e9-abac-c412f533dba1</td>\n",
       "      <td>[2022-08-26 00:00:00]</td>\n",
       "      <td>[2022-02-19 00:00:00]</td>\n",
       "      <td>{2022-08-26 00:00:00: 2099-01-01 00:00:00}</td>\n",
       "    </tr>\n",
       "    <tr>\n",
       "      <th>2465</th>\n",
       "      <td>fe77adfa-f9e4-11eb-903f-848f69e142cf</td>\n",
       "      <td>[2022-06-26 00:00:00]</td>\n",
       "      <td>[2022-06-28 00:00:00]</td>\n",
       "      <td>{2022-06-26 00:00:00: 2022-06-28 00:00:00}</td>\n",
       "    </tr>\n",
       "    <tr>\n",
       "      <th>2467</th>\n",
       "      <td>fea10060-b314-11ec-9062-848f69e142cf</td>\n",
       "      <td>[2022-04-18 00:00:00]</td>\n",
       "      <td>[2022-04-29 00:00:00]</td>\n",
       "      <td>{2022-04-18 00:00:00: 2022-04-29 00:00:00}</td>\n",
       "    </tr>\n",
       "    <tr>\n",
       "      <th>2468</th>\n",
       "      <td>fea18e6f-7eae-11ec-9059-848f69e142c9</td>\n",
       "      <td>[2022-01-04 00:00:00]</td>\n",
       "      <td>[2022-01-26 00:00:00, 2022-02-27 00:00:00, 202...</td>\n",
       "      <td>{2022-01-04 00:00:00: 2099-01-01 00:00:00}</td>\n",
       "    </tr>\n",
       "    <tr>\n",
       "      <th>2469</th>\n",
       "      <td>fed73113-6ec6-11ec-9056-848f69e142cf</td>\n",
       "      <td>[2022-01-06 00:00:00]</td>\n",
       "      <td>[2022-04-28 00:00:00, 2022-08-17 00:00:00]</td>\n",
       "      <td>{2022-01-06 00:00:00: 2099-01-01 00:00:00}</td>\n",
       "    </tr>\n",
       "  </tbody>\n",
       "</table>\n",
       "<p>896 rows × 4 columns</p>\n",
       "</div>"
      ],
      "text/plain": [
       "                                 client_id        lead_created_at  \\\n",
       "0     001f4c39-7a96-11ec-9058-848f69e142c9  [2022-01-21 00:00:00]   \n",
       "3     00817883-6fd6-11e7-80fc-c412f533dba1  [2022-01-31 00:00:00]   \n",
       "7     01031b3a-b59a-11e8-ab73-c412f533dba1  [2022-01-23 00:00:00]   \n",
       "8     0123c572-adb4-11e7-8116-c412f533dba1  [2022-01-21 00:00:00]   \n",
       "10    01a36ca5-1173-11ed-9074-848f69e142cf  [2022-08-01 00:00:00]   \n",
       "...                                    ...                    ...   \n",
       "2464  fe70d078-98b7-11e9-abac-c412f533dba1  [2022-08-26 00:00:00]   \n",
       "2465  fe77adfa-f9e4-11eb-903f-848f69e142cf  [2022-06-26 00:00:00]   \n",
       "2467  fea10060-b314-11ec-9062-848f69e142cf  [2022-04-18 00:00:00]   \n",
       "2468  fea18e6f-7eae-11ec-9059-848f69e142c9  [2022-01-04 00:00:00]   \n",
       "2469  fed73113-6ec6-11ec-9056-848f69e142cf  [2022-01-06 00:00:00]   \n",
       "\n",
       "                                    purchase_created_at  \\\n",
       "0     [2022-02-20 00:00:00, 2022-03-16 00:00:00, 202...   \n",
       "3                                 [2022-01-31 00:00:00]   \n",
       "7     [2022-01-24 00:00:00, 2022-02-08 00:00:00, 202...   \n",
       "8                                 [2022-04-26 00:00:00]   \n",
       "10                                [2022-08-01 00:00:00]   \n",
       "...                                                 ...   \n",
       "2464                              [2022-02-19 00:00:00]   \n",
       "2465                              [2022-06-28 00:00:00]   \n",
       "2467                              [2022-04-29 00:00:00]   \n",
       "2468  [2022-01-26 00:00:00, 2022-02-27 00:00:00, 202...   \n",
       "2469         [2022-04-28 00:00:00, 2022-08-17 00:00:00]   \n",
       "\n",
       "                                   lead_purchase  \n",
       "0     {2022-01-21 00:00:00: 2099-01-01 00:00:00}  \n",
       "3     {2022-01-31 00:00:00: 2022-01-31 00:00:00}  \n",
       "7     {2022-01-23 00:00:00: 2022-01-24 00:00:00}  \n",
       "8     {2022-01-21 00:00:00: 2099-01-01 00:00:00}  \n",
       "10    {2022-08-01 00:00:00: 2022-08-01 00:00:00}  \n",
       "...                                          ...  \n",
       "2464  {2022-08-26 00:00:00: 2099-01-01 00:00:00}  \n",
       "2465  {2022-06-26 00:00:00: 2022-06-28 00:00:00}  \n",
       "2467  {2022-04-18 00:00:00: 2022-04-29 00:00:00}  \n",
       "2468  {2022-01-04 00:00:00: 2099-01-01 00:00:00}  \n",
       "2469  {2022-01-06 00:00:00: 2099-01-01 00:00:00}  \n",
       "\n",
       "[896 rows x 4 columns]"
      ]
     },
     "execution_count": 49,
     "metadata": {},
     "output_type": "execute_result"
    }
   ],
   "source": [
    "ld_pr_notna"
   ]
  },
  {
   "cell_type": "markdown",
   "metadata": {},
   "source": [
    "Для каждого клиента имеем в столбце `lead_purchase` словарь, содержащий заявки и соответствующие им покупки. "
   ]
  },
  {
   "cell_type": "markdown",
   "metadata": {},
   "source": [
    "Распакуем каждое значение лида в отдельную строку и сформируем столбец с соответствующим значением покупки."
   ]
  },
  {
   "cell_type": "code",
   "execution_count": 50,
   "metadata": {},
   "outputs": [
    {
     "data": {
      "text/html": [
       "<div>\n",
       "<style scoped>\n",
       "    .dataframe tbody tr th:only-of-type {\n",
       "        vertical-align: middle;\n",
       "    }\n",
       "\n",
       "    .dataframe tbody tr th {\n",
       "        vertical-align: top;\n",
       "    }\n",
       "\n",
       "    .dataframe thead th {\n",
       "        text-align: right;\n",
       "    }\n",
       "</style>\n",
       "<table border=\"1\" class=\"dataframe\">\n",
       "  <thead>\n",
       "    <tr style=\"text-align: right;\">\n",
       "      <th></th>\n",
       "      <th>client_id</th>\n",
       "      <th>lead_created_at</th>\n",
       "      <th>purchase_created_at</th>\n",
       "    </tr>\n",
       "  </thead>\n",
       "  <tbody>\n",
       "    <tr>\n",
       "      <th>0</th>\n",
       "      <td>001f4c39-7a96-11ec-9058-848f69e142c9</td>\n",
       "      <td>2022-01-21</td>\n",
       "      <td>2099-01-01</td>\n",
       "    </tr>\n",
       "    <tr>\n",
       "      <th>3</th>\n",
       "      <td>00817883-6fd6-11e7-80fc-c412f533dba1</td>\n",
       "      <td>2022-01-31</td>\n",
       "      <td>2022-01-31</td>\n",
       "    </tr>\n",
       "    <tr>\n",
       "      <th>7</th>\n",
       "      <td>01031b3a-b59a-11e8-ab73-c412f533dba1</td>\n",
       "      <td>2022-01-23</td>\n",
       "      <td>2022-01-24</td>\n",
       "    </tr>\n",
       "    <tr>\n",
       "      <th>8</th>\n",
       "      <td>0123c572-adb4-11e7-8116-c412f533dba1</td>\n",
       "      <td>2022-01-21</td>\n",
       "      <td>2099-01-01</td>\n",
       "    </tr>\n",
       "    <tr>\n",
       "      <th>10</th>\n",
       "      <td>01a36ca5-1173-11ed-9074-848f69e142cf</td>\n",
       "      <td>2022-08-01</td>\n",
       "      <td>2022-08-01</td>\n",
       "    </tr>\n",
       "    <tr>\n",
       "      <th>...</th>\n",
       "      <td>...</td>\n",
       "      <td>...</td>\n",
       "      <td>...</td>\n",
       "    </tr>\n",
       "    <tr>\n",
       "      <th>2464</th>\n",
       "      <td>fe70d078-98b7-11e9-abac-c412f533dba1</td>\n",
       "      <td>2022-08-26</td>\n",
       "      <td>2099-01-01</td>\n",
       "    </tr>\n",
       "    <tr>\n",
       "      <th>2465</th>\n",
       "      <td>fe77adfa-f9e4-11eb-903f-848f69e142cf</td>\n",
       "      <td>2022-06-26</td>\n",
       "      <td>2022-06-28</td>\n",
       "    </tr>\n",
       "    <tr>\n",
       "      <th>2467</th>\n",
       "      <td>fea10060-b314-11ec-9062-848f69e142cf</td>\n",
       "      <td>2022-04-18</td>\n",
       "      <td>2022-04-29</td>\n",
       "    </tr>\n",
       "    <tr>\n",
       "      <th>2468</th>\n",
       "      <td>fea18e6f-7eae-11ec-9059-848f69e142c9</td>\n",
       "      <td>2022-01-04</td>\n",
       "      <td>2099-01-01</td>\n",
       "    </tr>\n",
       "    <tr>\n",
       "      <th>2469</th>\n",
       "      <td>fed73113-6ec6-11ec-9056-848f69e142cf</td>\n",
       "      <td>2022-01-06</td>\n",
       "      <td>2099-01-01</td>\n",
       "    </tr>\n",
       "  </tbody>\n",
       "</table>\n",
       "<p>953 rows × 3 columns</p>\n",
       "</div>"
      ],
      "text/plain": [
       "                                 client_id lead_created_at purchase_created_at\n",
       "0     001f4c39-7a96-11ec-9058-848f69e142c9      2022-01-21          2099-01-01\n",
       "3     00817883-6fd6-11e7-80fc-c412f533dba1      2022-01-31          2022-01-31\n",
       "7     01031b3a-b59a-11e8-ab73-c412f533dba1      2022-01-23          2022-01-24\n",
       "8     0123c572-adb4-11e7-8116-c412f533dba1      2022-01-21          2099-01-01\n",
       "10    01a36ca5-1173-11ed-9074-848f69e142cf      2022-08-01          2022-08-01\n",
       "...                                    ...             ...                 ...\n",
       "2464  fe70d078-98b7-11e9-abac-c412f533dba1      2022-08-26          2099-01-01\n",
       "2465  fe77adfa-f9e4-11eb-903f-848f69e142cf      2022-06-26          2022-06-28\n",
       "2467  fea10060-b314-11ec-9062-848f69e142cf      2022-04-18          2022-04-29\n",
       "2468  fea18e6f-7eae-11ec-9059-848f69e142c9      2022-01-04          2099-01-01\n",
       "2469  fed73113-6ec6-11ec-9056-848f69e142cf      2022-01-06          2099-01-01\n",
       "\n",
       "[953 rows x 3 columns]"
      ]
     },
     "execution_count": 50,
     "metadata": {},
     "output_type": "execute_result"
    }
   ],
   "source": [
    "ld_pr_notna = ld_pr_notna.explode('lead_created_at')\n",
    "ld_pr_notna['purchase_created_at'] = ld_pr_notna.apply(lambda x: x.lead_purchase.get(x.lead_created_at), axis=1)\n",
    "ld_pr_notna.drop(columns='lead_purchase', inplace=True)\n",
    "ld_pr_notna"
   ]
  },
  {
   "cell_type": "code",
   "execution_count": 51,
   "metadata": {},
   "outputs": [],
   "source": [
    "ld_pr = pd.concat([ld_pr_notna, ld_pr_isna.fillna(pd.to_datetime('2099-01-01')).explode('lead_created_at')])"
   ]
  },
  {
   "cell_type": "code",
   "execution_count": 52,
   "metadata": {},
   "outputs": [
    {
     "data": {
      "text/html": [
       "<div>\n",
       "<style scoped>\n",
       "    .dataframe tbody tr th:only-of-type {\n",
       "        vertical-align: middle;\n",
       "    }\n",
       "\n",
       "    .dataframe tbody tr th {\n",
       "        vertical-align: top;\n",
       "    }\n",
       "\n",
       "    .dataframe thead th {\n",
       "        text-align: right;\n",
       "    }\n",
       "</style>\n",
       "<table border=\"1\" class=\"dataframe\">\n",
       "  <thead>\n",
       "    <tr style=\"text-align: right;\">\n",
       "      <th></th>\n",
       "      <th>client_id</th>\n",
       "      <th>lead_created_at</th>\n",
       "      <th>purchase_created_at</th>\n",
       "    </tr>\n",
       "  </thead>\n",
       "  <tbody>\n",
       "    <tr>\n",
       "      <th>0</th>\n",
       "      <td>001f4c39-7a96-11ec-9058-848f69e142c9</td>\n",
       "      <td>2022-01-21</td>\n",
       "      <td>2099-01-01</td>\n",
       "    </tr>\n",
       "    <tr>\n",
       "      <th>3</th>\n",
       "      <td>00817883-6fd6-11e7-80fc-c412f533dba1</td>\n",
       "      <td>2022-01-31</td>\n",
       "      <td>2022-01-31</td>\n",
       "    </tr>\n",
       "    <tr>\n",
       "      <th>7</th>\n",
       "      <td>01031b3a-b59a-11e8-ab73-c412f533dba1</td>\n",
       "      <td>2022-01-23</td>\n",
       "      <td>2022-01-24</td>\n",
       "    </tr>\n",
       "    <tr>\n",
       "      <th>8</th>\n",
       "      <td>0123c572-adb4-11e7-8116-c412f533dba1</td>\n",
       "      <td>2022-01-21</td>\n",
       "      <td>2099-01-01</td>\n",
       "    </tr>\n",
       "    <tr>\n",
       "      <th>10</th>\n",
       "      <td>01a36ca5-1173-11ed-9074-848f69e142cf</td>\n",
       "      <td>2022-08-01</td>\n",
       "      <td>2022-08-01</td>\n",
       "    </tr>\n",
       "    <tr>\n",
       "      <th>...</th>\n",
       "      <td>...</td>\n",
       "      <td>...</td>\n",
       "      <td>...</td>\n",
       "    </tr>\n",
       "    <tr>\n",
       "      <th>2473</th>\n",
       "      <td>ff6fe041-340d-11ed-907c-848f69e142cf</td>\n",
       "      <td>2022-10-05</td>\n",
       "      <td>2099-01-01</td>\n",
       "    </tr>\n",
       "    <tr>\n",
       "      <th>2474</th>\n",
       "      <td>ff7d081f-d070-11ec-9066-848f69e142cd</td>\n",
       "      <td>2022-05-10</td>\n",
       "      <td>2099-01-01</td>\n",
       "    </tr>\n",
       "    <tr>\n",
       "      <th>2475</th>\n",
       "      <td>ff9e6518-ec9d-11ec-906f-848f69e142cf</td>\n",
       "      <td>2022-06-15</td>\n",
       "      <td>2099-01-01</td>\n",
       "    </tr>\n",
       "    <tr>\n",
       "      <th>2476</th>\n",
       "      <td>ffcd029e-7dad-11ec-9059-848f69e142c9</td>\n",
       "      <td>2022-01-25</td>\n",
       "      <td>2099-01-01</td>\n",
       "    </tr>\n",
       "    <tr>\n",
       "      <th>2477</th>\n",
       "      <td>fff3d090-2a8b-11ed-907b-848f69e142cf</td>\n",
       "      <td>2022-09-01</td>\n",
       "      <td>2099-01-01</td>\n",
       "    </tr>\n",
       "  </tbody>\n",
       "</table>\n",
       "<p>2574 rows × 3 columns</p>\n",
       "</div>"
      ],
      "text/plain": [
       "                                 client_id lead_created_at purchase_created_at\n",
       "0     001f4c39-7a96-11ec-9058-848f69e142c9      2022-01-21          2099-01-01\n",
       "3     00817883-6fd6-11e7-80fc-c412f533dba1      2022-01-31          2022-01-31\n",
       "7     01031b3a-b59a-11e8-ab73-c412f533dba1      2022-01-23          2022-01-24\n",
       "8     0123c572-adb4-11e7-8116-c412f533dba1      2022-01-21          2099-01-01\n",
       "10    01a36ca5-1173-11ed-9074-848f69e142cf      2022-08-01          2022-08-01\n",
       "...                                    ...             ...                 ...\n",
       "2473  ff6fe041-340d-11ed-907c-848f69e142cf      2022-10-05          2099-01-01\n",
       "2474  ff7d081f-d070-11ec-9066-848f69e142cd      2022-05-10          2099-01-01\n",
       "2475  ff9e6518-ec9d-11ec-906f-848f69e142cf      2022-06-15          2099-01-01\n",
       "2476  ffcd029e-7dad-11ec-9059-848f69e142c9      2022-01-25          2099-01-01\n",
       "2477  fff3d090-2a8b-11ed-907b-848f69e142cf      2022-09-01          2099-01-01\n",
       "\n",
       "[2574 rows x 3 columns]"
      ]
     },
     "execution_count": 52,
     "metadata": {},
     "output_type": "execute_result"
    }
   ],
   "source": [
    "ld_pr"
   ]
  },
  {
   "cell_type": "markdown",
   "metadata": {},
   "source": [
    "Проверим однозначность связей с ранее сформированной таблицей `total`"
   ]
  },
  {
   "cell_type": "code",
   "execution_count": 53,
   "metadata": {},
   "outputs": [
    {
     "data": {
      "text/plain": [
       "client_id                             lead_created_at\n",
       "001f4c39-7a96-11ec-9058-848f69e142c9  2022-01-21         1\n",
       "ad3b5807-bcdd-11e8-ab73-c412f533dba1  2022-04-07         1\n",
       "a7dcc843-4f57-11eb-ac23-c412f533dba1  2022-02-01         1\n",
       "a7e0cada-e95b-11ec-906f-848f69e142cf  2022-06-11         1\n",
       "a7e27568-965b-11ec-905d-848f69e142cf  2022-02-25         1\n",
       "dtype: int64"
      ]
     },
     "execution_count": 53,
     "metadata": {},
     "output_type": "execute_result"
    }
   ],
   "source": [
    "ld_pr[['client_id', 'lead_created_at']].value_counts()[:5]"
   ]
  },
  {
   "cell_type": "code",
   "execution_count": 54,
   "metadata": {},
   "outputs": [
    {
     "data": {
      "text/plain": [
       "client_id                             lead_created_at\n",
       "9eb261e7-49ef-11ec-9052-848f69e142cf  2022-01-06         2\n",
       "1793491e-da65-11ec-9067-848f69e142c9  2022-05-22         2\n",
       "85457286-1888-11e8-812f-c412f533dba1  2022-06-19         2\n",
       "209ea53a-b708-11ec-9062-848f69e142cf  2022-04-08         2\n",
       "77ee4152-26ca-11ed-907a-848f69e142cf  2022-08-28         2\n",
       "e565e53e-c54d-11ec-9065-848f69e142cf  2022-04-26         2\n",
       "4bd33687-d5ac-11e9-abbe-c412f533dba1  2022-06-27         2\n",
       "5041b2a0-ce63-11e9-abbc-c412f533dba1  2022-06-20         2\n",
       "0470fd1e-656a-11eb-ac26-c412f533dba1  2022-05-10         2\n",
       "a65ffd34-b0b8-11ec-9061-848f69e142cf  2022-03-30         1\n",
       "dtype: int64"
      ]
     },
     "execution_count": 54,
     "metadata": {},
     "output_type": "execute_result"
    }
   ],
   "source": [
    "total[['client_id', 'lead_created_at']].value_counts()[:10]"
   ]
  },
  {
   "cell_type": "markdown",
   "metadata": {},
   "source": [
    "Несколько записей имеют одинаковый набор полей по номеру клиента и даты формирования заявки"
   ]
  },
  {
   "cell_type": "code",
   "execution_count": 55,
   "metadata": {},
   "outputs": [],
   "source": [
    "total =  total.merge(ld_pr, on=['client_id', 'lead_created_at'], how='left')"
   ]
  },
  {
   "cell_type": "markdown",
   "metadata": {},
   "source": [
    "Количество лидов для данной записи определим как 1/a, где a - количество записей с совпадающими значениями `client_id`, `lead_created_at`. Т.е. если таких строк две, то для каждой строки кол-во лидов будет определено как 0,5, а сумма даст единицу."
   ]
  },
  {
   "cell_type": "code",
   "execution_count": 56,
   "metadata": {},
   "outputs": [],
   "source": [
    "total['count_lead'] = total.groupby(by=['client_id', \\\n",
    "                                        'lead_created_at'])['client_id'].transform(lambda x: 1/x.count())"
   ]
  },
  {
   "cell_type": "markdown",
   "metadata": {},
   "source": [
    "Дополним таблицу информацией о сумме покупок"
   ]
  },
  {
   "cell_type": "code",
   "execution_count": 57,
   "metadata": {},
   "outputs": [],
   "source": [
    "total =  total.merge(purchases, on=['client_id', 'purchase_created_at'], how='left')"
   ]
  },
  {
   "cell_type": "markdown",
   "metadata": {},
   "source": [
    "По аналогии с кликами, для обработки неуникальных записей по полям `client_id`, `purchase_created_at`, рассчитаем кол-во покупок."
   ]
  },
  {
   "cell_type": "code",
   "execution_count": 58,
   "metadata": {},
   "outputs": [],
   "source": [
    "total['count_purch'] = total.groupby(by=['client_id', \\\n",
    "                                'purchase_created_at'])['m_purchase_amount'].transform(lambda x: x.count())"
   ]
  },
  {
   "cell_type": "code",
   "execution_count": 59,
   "metadata": {},
   "outputs": [],
   "source": [
    "total['purchase_sum'] = total['m_purchase_amount'] / total['count_purch']"
   ]
  },
  {
   "cell_type": "code",
   "execution_count": 60,
   "metadata": {},
   "outputs": [],
   "source": [
    "total['count'] = total.groupby(by=['created_at','d_utm_source','d_utm_medium','d_utm_campaign', \\\n",
    "                                    'd_utm_content'])['m_cost'].transform(lambda x: x.count())\n",
    "total['m_clicks_per_lead'] = total['m_clicks'] / total['count']\n",
    "total['m_cost_per_lead'] = total['m_cost'] / total['count']"
   ]
  },
  {
   "cell_type": "code",
   "execution_count": 61,
   "metadata": {},
   "outputs": [],
   "source": [
    "total.fillna(0, inplace=True)"
   ]
  },
  {
   "cell_type": "markdown",
   "metadata": {},
   "source": [
    "Определим функцию для расчета количества ненулевых значений в массиве."
   ]
  },
  {
   "cell_type": "code",
   "execution_count": 62,
   "metadata": {},
   "outputs": [],
   "source": [
    "def count_if_more_zero(x):\n",
    "    cnt_lst = []\n",
    "    for i in x:\n",
    "        if i != 0:\n",
    "            cnt_lst.append(i)\n",
    "    return len(cnt_lst)"
   ]
  },
  {
   "cell_type": "code",
   "execution_count": 63,
   "metadata": {},
   "outputs": [
    {
     "data": {
      "text/plain": [
       "5"
      ]
     },
     "execution_count": 63,
     "metadata": {},
     "output_type": "execute_result"
    }
   ],
   "source": [
    "count_if_more_zero([0,1,2,3,2,1,0])"
   ]
  },
  {
   "cell_type": "code",
   "execution_count": 64,
   "metadata": {},
   "outputs": [],
   "source": [
    "final_df = total.groupby(['created_at', 'd_utm_source', 'd_utm_medium', 'd_utm_campaign'], as_index=False) \\\n",
    "            .agg({'m_clicks_per_lead':'sum', 'm_cost_per_lead':'sum', 'count_lead':[count_if_more_zero],\n",
    "                  'purchase_sum':[count_if_more_zero,'sum']})"
   ]
  },
  {
   "cell_type": "code",
   "execution_count": 65,
   "metadata": {},
   "outputs": [],
   "source": [
    "final_df.columns=['Дата', 'UTM source', 'UTM medium', 'UTM campaign', 'Количество кликов', \\\n",
    "    'Расходы на рекламу', 'Количество лидов', 'Количество покупок', 'Выручка от продаж']"
   ]
  },
  {
   "cell_type": "code",
   "execution_count": 66,
   "metadata": {},
   "outputs": [
    {
     "data": {
      "text/html": [
       "<div>\n",
       "<style scoped>\n",
       "    .dataframe tbody tr th:only-of-type {\n",
       "        vertical-align: middle;\n",
       "    }\n",
       "\n",
       "    .dataframe tbody tr th {\n",
       "        vertical-align: top;\n",
       "    }\n",
       "\n",
       "    .dataframe thead th {\n",
       "        text-align: right;\n",
       "    }\n",
       "</style>\n",
       "<table border=\"1\" class=\"dataframe\">\n",
       "  <thead>\n",
       "    <tr style=\"text-align: right;\">\n",
       "      <th></th>\n",
       "      <th>Дата</th>\n",
       "      <th>UTM source</th>\n",
       "      <th>UTM medium</th>\n",
       "      <th>UTM campaign</th>\n",
       "      <th>Количество кликов</th>\n",
       "      <th>Расходы на рекламу</th>\n",
       "      <th>Количество лидов</th>\n",
       "      <th>Количество покупок</th>\n",
       "      <th>Выручка от продаж</th>\n",
       "    </tr>\n",
       "  </thead>\n",
       "  <tbody>\n",
       "    <tr>\n",
       "      <th>0</th>\n",
       "      <td>2022-01-03</td>\n",
       "      <td>yandex</td>\n",
       "      <td>cpc</td>\n",
       "      <td>48306435</td>\n",
       "      <td>1.0</td>\n",
       "      <td>11.952</td>\n",
       "      <td>0</td>\n",
       "      <td>0</td>\n",
       "      <td>0.0</td>\n",
       "    </tr>\n",
       "    <tr>\n",
       "      <th>1</th>\n",
       "      <td>2022-01-03</td>\n",
       "      <td>yandex</td>\n",
       "      <td>cpc</td>\n",
       "      <td>48306450</td>\n",
       "      <td>10.0</td>\n",
       "      <td>190.128</td>\n",
       "      <td>0</td>\n",
       "      <td>0</td>\n",
       "      <td>0.0</td>\n",
       "    </tr>\n",
       "    <tr>\n",
       "      <th>2</th>\n",
       "      <td>2022-01-04</td>\n",
       "      <td>yandex</td>\n",
       "      <td>cpc</td>\n",
       "      <td>48306435</td>\n",
       "      <td>1.0</td>\n",
       "      <td>11.364</td>\n",
       "      <td>0</td>\n",
       "      <td>0</td>\n",
       "      <td>0.0</td>\n",
       "    </tr>\n",
       "    <tr>\n",
       "      <th>3</th>\n",
       "      <td>2022-01-04</td>\n",
       "      <td>yandex</td>\n",
       "      <td>cpc</td>\n",
       "      <td>48306450</td>\n",
       "      <td>29.0</td>\n",
       "      <td>617.616</td>\n",
       "      <td>1</td>\n",
       "      <td>1</td>\n",
       "      <td>290.0</td>\n",
       "    </tr>\n",
       "    <tr>\n",
       "      <th>4</th>\n",
       "      <td>2022-01-05</td>\n",
       "      <td>yandex</td>\n",
       "      <td>cpc</td>\n",
       "      <td>48306435</td>\n",
       "      <td>0.0</td>\n",
       "      <td>0.000</td>\n",
       "      <td>0</td>\n",
       "      <td>0</td>\n",
       "      <td>0.0</td>\n",
       "    </tr>\n",
       "    <tr>\n",
       "      <th>...</th>\n",
       "      <td>...</td>\n",
       "      <td>...</td>\n",
       "      <td>...</td>\n",
       "      <td>...</td>\n",
       "      <td>...</td>\n",
       "      <td>...</td>\n",
       "      <td>...</td>\n",
       "      <td>...</td>\n",
       "      <td>...</td>\n",
       "    </tr>\n",
       "    <tr>\n",
       "      <th>1277</th>\n",
       "      <td>2022-09-14</td>\n",
       "      <td>yandex</td>\n",
       "      <td>cpc</td>\n",
       "      <td>48306450</td>\n",
       "      <td>48.0</td>\n",
       "      <td>1856.208</td>\n",
       "      <td>3</td>\n",
       "      <td>1</td>\n",
       "      <td>10400.0</td>\n",
       "    </tr>\n",
       "    <tr>\n",
       "      <th>1278</th>\n",
       "      <td>2022-09-14</td>\n",
       "      <td>yandex</td>\n",
       "      <td>cpc</td>\n",
       "      <td>48306473</td>\n",
       "      <td>1.0</td>\n",
       "      <td>33.444</td>\n",
       "      <td>0</td>\n",
       "      <td>0</td>\n",
       "      <td>0.0</td>\n",
       "    </tr>\n",
       "    <tr>\n",
       "      <th>1279</th>\n",
       "      <td>2022-09-14</td>\n",
       "      <td>yandex</td>\n",
       "      <td>cpc</td>\n",
       "      <td>48306487</td>\n",
       "      <td>10.0</td>\n",
       "      <td>228.060</td>\n",
       "      <td>0</td>\n",
       "      <td>0</td>\n",
       "      <td>0.0</td>\n",
       "    </tr>\n",
       "    <tr>\n",
       "      <th>1280</th>\n",
       "      <td>2022-09-14</td>\n",
       "      <td>yandex</td>\n",
       "      <td>cpc</td>\n",
       "      <td>48306494</td>\n",
       "      <td>0.0</td>\n",
       "      <td>0.000</td>\n",
       "      <td>0</td>\n",
       "      <td>0</td>\n",
       "      <td>0.0</td>\n",
       "    </tr>\n",
       "    <tr>\n",
       "      <th>1281</th>\n",
       "      <td>2022-09-14</td>\n",
       "      <td>yandex</td>\n",
       "      <td>cpc</td>\n",
       "      <td>48306518</td>\n",
       "      <td>0.0</td>\n",
       "      <td>0.000</td>\n",
       "      <td>0</td>\n",
       "      <td>0</td>\n",
       "      <td>0.0</td>\n",
       "    </tr>\n",
       "  </tbody>\n",
       "</table>\n",
       "<p>1282 rows × 9 columns</p>\n",
       "</div>"
      ],
      "text/plain": [
       "           Дата UTM source UTM medium UTM campaign  Количество кликов  \\\n",
       "0    2022-01-03     yandex        cpc     48306435                1.0   \n",
       "1    2022-01-03     yandex        cpc     48306450               10.0   \n",
       "2    2022-01-04     yandex        cpc     48306435                1.0   \n",
       "3    2022-01-04     yandex        cpc     48306450               29.0   \n",
       "4    2022-01-05     yandex        cpc     48306435                0.0   \n",
       "...         ...        ...        ...          ...                ...   \n",
       "1277 2022-09-14     yandex        cpc     48306450               48.0   \n",
       "1278 2022-09-14     yandex        cpc     48306473                1.0   \n",
       "1279 2022-09-14     yandex        cpc     48306487               10.0   \n",
       "1280 2022-09-14     yandex        cpc     48306494                0.0   \n",
       "1281 2022-09-14     yandex        cpc     48306518                0.0   \n",
       "\n",
       "      Расходы на рекламу  Количество лидов  Количество покупок  \\\n",
       "0                 11.952                 0                   0   \n",
       "1                190.128                 0                   0   \n",
       "2                 11.364                 0                   0   \n",
       "3                617.616                 1                   1   \n",
       "4                  0.000                 0                   0   \n",
       "...                  ...               ...                 ...   \n",
       "1277            1856.208                 3                   1   \n",
       "1278              33.444                 0                   0   \n",
       "1279             228.060                 0                   0   \n",
       "1280               0.000                 0                   0   \n",
       "1281               0.000                 0                   0   \n",
       "\n",
       "      Выручка от продаж  \n",
       "0                   0.0  \n",
       "1                   0.0  \n",
       "2                   0.0  \n",
       "3                 290.0  \n",
       "4                   0.0  \n",
       "...                 ...  \n",
       "1277            10400.0  \n",
       "1278                0.0  \n",
       "1279                0.0  \n",
       "1280                0.0  \n",
       "1281                0.0  \n",
       "\n",
       "[1282 rows x 9 columns]"
      ]
     },
     "execution_count": 66,
     "metadata": {},
     "output_type": "execute_result"
    }
   ],
   "source": [
    "final_df"
   ]
  },
  {
   "cell_type": "code",
   "execution_count": 67,
   "metadata": {},
   "outputs": [],
   "source": [
    "final_df['CPL'] = final_df['Расходы на рекламу'] / final_df['Количество лидов']\n",
    "final_df['ROAS'] = final_df['Выручка от продаж'] / final_df['Расходы на рекламу']\n",
    "final_df.fillna(0, inplace=True)\n",
    "final_df.replace(np.inf, '-', inplace=True)\n"
   ]
  },
  {
   "cell_type": "code",
   "execution_count": 68,
   "metadata": {},
   "outputs": [
    {
     "data": {
      "text/html": [
       "<div>\n",
       "<style scoped>\n",
       "    .dataframe tbody tr th:only-of-type {\n",
       "        vertical-align: middle;\n",
       "    }\n",
       "\n",
       "    .dataframe tbody tr th {\n",
       "        vertical-align: top;\n",
       "    }\n",
       "\n",
       "    .dataframe thead th {\n",
       "        text-align: right;\n",
       "    }\n",
       "</style>\n",
       "<table border=\"1\" class=\"dataframe\">\n",
       "  <thead>\n",
       "    <tr style=\"text-align: right;\">\n",
       "      <th></th>\n",
       "      <th>Дата</th>\n",
       "      <th>UTM source</th>\n",
       "      <th>UTM medium</th>\n",
       "      <th>UTM campaign</th>\n",
       "      <th>Количество кликов</th>\n",
       "      <th>Расходы на рекламу</th>\n",
       "      <th>Количество лидов</th>\n",
       "      <th>Количество покупок</th>\n",
       "      <th>Выручка от продаж</th>\n",
       "      <th>CPL</th>\n",
       "      <th>ROAS</th>\n",
       "    </tr>\n",
       "  </thead>\n",
       "  <tbody>\n",
       "    <tr>\n",
       "      <th>0</th>\n",
       "      <td>2022-01-03</td>\n",
       "      <td>yandex</td>\n",
       "      <td>cpc</td>\n",
       "      <td>48306435</td>\n",
       "      <td>1.0</td>\n",
       "      <td>11.952</td>\n",
       "      <td>0</td>\n",
       "      <td>0</td>\n",
       "      <td>0.0</td>\n",
       "      <td>-</td>\n",
       "      <td>0.0</td>\n",
       "    </tr>\n",
       "    <tr>\n",
       "      <th>1</th>\n",
       "      <td>2022-01-03</td>\n",
       "      <td>yandex</td>\n",
       "      <td>cpc</td>\n",
       "      <td>48306450</td>\n",
       "      <td>10.0</td>\n",
       "      <td>190.128</td>\n",
       "      <td>0</td>\n",
       "      <td>0</td>\n",
       "      <td>0.0</td>\n",
       "      <td>-</td>\n",
       "      <td>0.0</td>\n",
       "    </tr>\n",
       "    <tr>\n",
       "      <th>2</th>\n",
       "      <td>2022-01-04</td>\n",
       "      <td>yandex</td>\n",
       "      <td>cpc</td>\n",
       "      <td>48306435</td>\n",
       "      <td>1.0</td>\n",
       "      <td>11.364</td>\n",
       "      <td>0</td>\n",
       "      <td>0</td>\n",
       "      <td>0.0</td>\n",
       "      <td>-</td>\n",
       "      <td>0.0</td>\n",
       "    </tr>\n",
       "    <tr>\n",
       "      <th>3</th>\n",
       "      <td>2022-01-04</td>\n",
       "      <td>yandex</td>\n",
       "      <td>cpc</td>\n",
       "      <td>48306450</td>\n",
       "      <td>29.0</td>\n",
       "      <td>617.616</td>\n",
       "      <td>1</td>\n",
       "      <td>1</td>\n",
       "      <td>290.0</td>\n",
       "      <td>617.616</td>\n",
       "      <td>0.469547</td>\n",
       "    </tr>\n",
       "    <tr>\n",
       "      <th>4</th>\n",
       "      <td>2022-01-05</td>\n",
       "      <td>yandex</td>\n",
       "      <td>cpc</td>\n",
       "      <td>48306435</td>\n",
       "      <td>0.0</td>\n",
       "      <td>0.000</td>\n",
       "      <td>0</td>\n",
       "      <td>0</td>\n",
       "      <td>0.0</td>\n",
       "      <td>0.0</td>\n",
       "      <td>0.0</td>\n",
       "    </tr>\n",
       "    <tr>\n",
       "      <th>...</th>\n",
       "      <td>...</td>\n",
       "      <td>...</td>\n",
       "      <td>...</td>\n",
       "      <td>...</td>\n",
       "      <td>...</td>\n",
       "      <td>...</td>\n",
       "      <td>...</td>\n",
       "      <td>...</td>\n",
       "      <td>...</td>\n",
       "      <td>...</td>\n",
       "      <td>...</td>\n",
       "    </tr>\n",
       "    <tr>\n",
       "      <th>1277</th>\n",
       "      <td>2022-09-14</td>\n",
       "      <td>yandex</td>\n",
       "      <td>cpc</td>\n",
       "      <td>48306450</td>\n",
       "      <td>48.0</td>\n",
       "      <td>1856.208</td>\n",
       "      <td>3</td>\n",
       "      <td>1</td>\n",
       "      <td>10400.0</td>\n",
       "      <td>618.736</td>\n",
       "      <td>5.60282</td>\n",
       "    </tr>\n",
       "    <tr>\n",
       "      <th>1278</th>\n",
       "      <td>2022-09-14</td>\n",
       "      <td>yandex</td>\n",
       "      <td>cpc</td>\n",
       "      <td>48306473</td>\n",
       "      <td>1.0</td>\n",
       "      <td>33.444</td>\n",
       "      <td>0</td>\n",
       "      <td>0</td>\n",
       "      <td>0.0</td>\n",
       "      <td>-</td>\n",
       "      <td>0.0</td>\n",
       "    </tr>\n",
       "    <tr>\n",
       "      <th>1279</th>\n",
       "      <td>2022-09-14</td>\n",
       "      <td>yandex</td>\n",
       "      <td>cpc</td>\n",
       "      <td>48306487</td>\n",
       "      <td>10.0</td>\n",
       "      <td>228.060</td>\n",
       "      <td>0</td>\n",
       "      <td>0</td>\n",
       "      <td>0.0</td>\n",
       "      <td>-</td>\n",
       "      <td>0.0</td>\n",
       "    </tr>\n",
       "    <tr>\n",
       "      <th>1280</th>\n",
       "      <td>2022-09-14</td>\n",
       "      <td>yandex</td>\n",
       "      <td>cpc</td>\n",
       "      <td>48306494</td>\n",
       "      <td>0.0</td>\n",
       "      <td>0.000</td>\n",
       "      <td>0</td>\n",
       "      <td>0</td>\n",
       "      <td>0.0</td>\n",
       "      <td>0.0</td>\n",
       "      <td>0.0</td>\n",
       "    </tr>\n",
       "    <tr>\n",
       "      <th>1281</th>\n",
       "      <td>2022-09-14</td>\n",
       "      <td>yandex</td>\n",
       "      <td>cpc</td>\n",
       "      <td>48306518</td>\n",
       "      <td>0.0</td>\n",
       "      <td>0.000</td>\n",
       "      <td>0</td>\n",
       "      <td>0</td>\n",
       "      <td>0.0</td>\n",
       "      <td>0.0</td>\n",
       "      <td>0.0</td>\n",
       "    </tr>\n",
       "  </tbody>\n",
       "</table>\n",
       "<p>1282 rows × 11 columns</p>\n",
       "</div>"
      ],
      "text/plain": [
       "           Дата UTM source UTM medium UTM campaign  Количество кликов  \\\n",
       "0    2022-01-03     yandex        cpc     48306435                1.0   \n",
       "1    2022-01-03     yandex        cpc     48306450               10.0   \n",
       "2    2022-01-04     yandex        cpc     48306435                1.0   \n",
       "3    2022-01-04     yandex        cpc     48306450               29.0   \n",
       "4    2022-01-05     yandex        cpc     48306435                0.0   \n",
       "...         ...        ...        ...          ...                ...   \n",
       "1277 2022-09-14     yandex        cpc     48306450               48.0   \n",
       "1278 2022-09-14     yandex        cpc     48306473                1.0   \n",
       "1279 2022-09-14     yandex        cpc     48306487               10.0   \n",
       "1280 2022-09-14     yandex        cpc     48306494                0.0   \n",
       "1281 2022-09-14     yandex        cpc     48306518                0.0   \n",
       "\n",
       "      Расходы на рекламу  Количество лидов  Количество покупок  \\\n",
       "0                 11.952                 0                   0   \n",
       "1                190.128                 0                   0   \n",
       "2                 11.364                 0                   0   \n",
       "3                617.616                 1                   1   \n",
       "4                  0.000                 0                   0   \n",
       "...                  ...               ...                 ...   \n",
       "1277            1856.208                 3                   1   \n",
       "1278              33.444                 0                   0   \n",
       "1279             228.060                 0                   0   \n",
       "1280               0.000                 0                   0   \n",
       "1281               0.000                 0                   0   \n",
       "\n",
       "      Выручка от продаж      CPL      ROAS  \n",
       "0                   0.0        -       0.0  \n",
       "1                   0.0        -       0.0  \n",
       "2                   0.0        -       0.0  \n",
       "3                 290.0  617.616  0.469547  \n",
       "4                   0.0      0.0       0.0  \n",
       "...                 ...      ...       ...  \n",
       "1277            10400.0  618.736   5.60282  \n",
       "1278                0.0        -       0.0  \n",
       "1279                0.0        -       0.0  \n",
       "1280                0.0      0.0       0.0  \n",
       "1281                0.0      0.0       0.0  \n",
       "\n",
       "[1282 rows x 11 columns]"
      ]
     },
     "execution_count": 68,
     "metadata": {},
     "output_type": "execute_result"
    }
   ],
   "source": [
    "final_df"
   ]
  },
  {
   "cell_type": "code",
   "execution_count": 69,
   "metadata": {},
   "outputs": [
    {
     "data": {
      "text/html": [
       "<div>\n",
       "<style scoped>\n",
       "    .dataframe tbody tr th:only-of-type {\n",
       "        vertical-align: middle;\n",
       "    }\n",
       "\n",
       "    .dataframe tbody tr th {\n",
       "        vertical-align: top;\n",
       "    }\n",
       "\n",
       "    .dataframe thead th {\n",
       "        text-align: right;\n",
       "    }\n",
       "</style>\n",
       "<table border=\"1\" class=\"dataframe\">\n",
       "  <thead>\n",
       "    <tr style=\"text-align: right;\">\n",
       "      <th></th>\n",
       "      <th>Дата</th>\n",
       "      <th>UTM source</th>\n",
       "      <th>UTM medium</th>\n",
       "      <th>UTM campaign</th>\n",
       "      <th>Количество кликов</th>\n",
       "      <th>Расходы на рекламу</th>\n",
       "      <th>Количество лидов</th>\n",
       "      <th>Количество покупок</th>\n",
       "      <th>Выручка от продаж</th>\n",
       "      <th>CPL</th>\n",
       "      <th>ROAS</th>\n",
       "    </tr>\n",
       "  </thead>\n",
       "  <tbody>\n",
       "    <tr>\n",
       "      <th>657</th>\n",
       "      <td>2022-05-30</td>\n",
       "      <td>yandex</td>\n",
       "      <td>cpc</td>\n",
       "      <td>48306435</td>\n",
       "      <td>10.0</td>\n",
       "      <td>300.744</td>\n",
       "      <td>1</td>\n",
       "      <td>0</td>\n",
       "      <td>0.0</td>\n",
       "      <td>300.744</td>\n",
       "      <td>0.0</td>\n",
       "    </tr>\n",
       "    <tr>\n",
       "      <th>658</th>\n",
       "      <td>2022-05-30</td>\n",
       "      <td>yandex</td>\n",
       "      <td>cpc</td>\n",
       "      <td>48306450</td>\n",
       "      <td>36.0</td>\n",
       "      <td>1100.700</td>\n",
       "      <td>4</td>\n",
       "      <td>3</td>\n",
       "      <td>25000.0</td>\n",
       "      <td>275.175</td>\n",
       "      <td>22.712819</td>\n",
       "    </tr>\n",
       "    <tr>\n",
       "      <th>659</th>\n",
       "      <td>2022-05-30</td>\n",
       "      <td>yandex</td>\n",
       "      <td>cpc</td>\n",
       "      <td>48306473</td>\n",
       "      <td>1.0</td>\n",
       "      <td>11.040</td>\n",
       "      <td>0</td>\n",
       "      <td>0</td>\n",
       "      <td>0.0</td>\n",
       "      <td>-</td>\n",
       "      <td>0.0</td>\n",
       "    </tr>\n",
       "    <tr>\n",
       "      <th>660</th>\n",
       "      <td>2022-05-30</td>\n",
       "      <td>yandex</td>\n",
       "      <td>cpc</td>\n",
       "      <td>48306487</td>\n",
       "      <td>1.0</td>\n",
       "      <td>8.112</td>\n",
       "      <td>0</td>\n",
       "      <td>0</td>\n",
       "      <td>0.0</td>\n",
       "      <td>-</td>\n",
       "      <td>0.0</td>\n",
       "    </tr>\n",
       "    <tr>\n",
       "      <th>661</th>\n",
       "      <td>2022-05-30</td>\n",
       "      <td>yandex</td>\n",
       "      <td>cpc</td>\n",
       "      <td>48306494</td>\n",
       "      <td>15.0</td>\n",
       "      <td>277.452</td>\n",
       "      <td>5</td>\n",
       "      <td>0</td>\n",
       "      <td>0.0</td>\n",
       "      <td>55.4904</td>\n",
       "      <td>0.0</td>\n",
       "    </tr>\n",
       "    <tr>\n",
       "      <th>662</th>\n",
       "      <td>2022-05-30</td>\n",
       "      <td>yandex</td>\n",
       "      <td>cpc</td>\n",
       "      <td>48306518</td>\n",
       "      <td>2.0</td>\n",
       "      <td>52.668</td>\n",
       "      <td>1</td>\n",
       "      <td>0</td>\n",
       "      <td>0.0</td>\n",
       "      <td>52.668</td>\n",
       "      <td>0.0</td>\n",
       "    </tr>\n",
       "  </tbody>\n",
       "</table>\n",
       "</div>"
      ],
      "text/plain": [
       "          Дата UTM source UTM medium UTM campaign  Количество кликов  \\\n",
       "657 2022-05-30     yandex        cpc     48306435               10.0   \n",
       "658 2022-05-30     yandex        cpc     48306450               36.0   \n",
       "659 2022-05-30     yandex        cpc     48306473                1.0   \n",
       "660 2022-05-30     yandex        cpc     48306487                1.0   \n",
       "661 2022-05-30     yandex        cpc     48306494               15.0   \n",
       "662 2022-05-30     yandex        cpc     48306518                2.0   \n",
       "\n",
       "     Расходы на рекламу  Количество лидов  Количество покупок  \\\n",
       "657             300.744                 1                   0   \n",
       "658            1100.700                 4                   3   \n",
       "659              11.040                 0                   0   \n",
       "660               8.112                 0                   0   \n",
       "661             277.452                 5                   0   \n",
       "662              52.668                 1                   0   \n",
       "\n",
       "     Выручка от продаж      CPL       ROAS  \n",
       "657                0.0  300.744        0.0  \n",
       "658            25000.0  275.175  22.712819  \n",
       "659                0.0        -        0.0  \n",
       "660                0.0        -        0.0  \n",
       "661                0.0  55.4904        0.0  \n",
       "662                0.0   52.668        0.0  "
      ]
     },
     "execution_count": 69,
     "metadata": {},
     "output_type": "execute_result"
    }
   ],
   "source": [
    "final_df[final_df['Дата']==pd.to_datetime('2022-05-30')]"
   ]
  },
  {
   "cell_type": "code",
   "execution_count": 71,
   "metadata": {},
   "outputs": [],
   "source": [
    "final_df.to_excel('Report/report.xlsx')"
   ]
  }
 ],
 "metadata": {
  "kernelspec": {
   "display_name": "Python 3.9.7 ('base')",
   "language": "python",
   "name": "python3"
  },
  "language_info": {
   "codemirror_mode": {
    "name": "ipython",
    "version": 3
   },
   "file_extension": ".py",
   "mimetype": "text/x-python",
   "name": "python",
   "nbconvert_exporter": "python",
   "pygments_lexer": "ipython3",
   "version": "3.9.7"
  },
  "orig_nbformat": 4,
  "vscode": {
   "interpreter": {
    "hash": "9ef6e2e67a0cf71fbe6d7e1fa2c9490934e39d7df731d622f3f191a885a91ec8"
   }
  }
 },
 "nbformat": 4,
 "nbformat_minor": 2
}
